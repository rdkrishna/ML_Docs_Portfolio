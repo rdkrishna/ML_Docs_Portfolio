{
  "cells": [
    {
      "cell_type": "markdown",
      "metadata": {
        "id": "view-in-github",
        "colab_type": "text"
      },
      "source": [
        "<a href=\"https://colab.research.google.com/github/rdkrishna/ML_Docs_Portfolio/blob/main/MultiVariate_Classification_Hackathon.ipynb\" target=\"_parent\"><img src=\"https://colab.research.google.com/assets/colab-badge.svg\" alt=\"Open In Colab\"/></a>"
      ]
    },
    {
      "cell_type": "markdown",
      "metadata": {
        "id": "2LFr6R_-tBbN"
      },
      "source": [
        "#**Introduction and Details of Features of data**\n",
        "This is Hackathon project to predict (Classify) 2 outputs,\n",
        "Primary and Final close flags, binary indicators representing default or non default (representing 1 and 0 respectively) of credict at end of primary term and final term.\n",
        "Hackthon details is Analytics Olympiad 2023 by MachineHack and Shiv Nadar Institute of Emminence.\n",
        "The data set is available in link: https://machinehack.com/hackathons/analytics_olympiad_2023/data\n",
        "\n",
        "The Data is already split as Train and Test datasets.\n",
        "\n",
        "So, in this scenario, we split the Train data set as X and y, to train, test and validate internally and best model is then validated against Test datasets"
      ]
    },
    {
      "cell_type": "markdown",
      "metadata": {
        "id": "c3Qeerhgzpcc"
      },
      "source": [
        "## Features and Labels:\n",
        "days_since_opened: Days from credit opening date to data collection date.\n",
        "days_since_confirmed: Days from credit information confirmation date till data collection date.\n",
        "primary_term: Planned number of days from credit opening date to closing date.\n",
        "final_term: Actual number of days from credit opening date to closing date.\n",
        "days_till_primary_close: Planned number of days from data collection date until loan closing date.\n",
        "days_till_final_close: Actual number of days from data collection date until loan closing date.\n",
        "loans_credit_limit: Credit limit for the customer's loans.\n",
        "loans_next_payment_summary: Amount of the next loan payment.\n",
        "loans_outstanding_balance: Outstanding balance amount.\n",
        "loans_max_overdue_amount: Maximum overdue amount.\n",
        "loans_credit_cost_rate: Cost rate associated with loans.\n",
        "\n",
        "Loan Overdue Information:\n",
        "\n",
        "loans_within_5_days to loans_over_90_days: Number of loans overdue within different time frames.\n",
        "is_zero_loans_within_5_days to is_zero_loans_over_90_days: Binary indicators for zero loans overdue within different time frames.\n",
        "\n",
        "Credit Utilization and Limit Information:\n",
        "\n",
        "utilization: Credit utilization rate.\n",
        "over_limit_count: Count of instances where the customer went over the credit limit.\n",
        "max_over_limit_count: Maximum count of instances where the customer exceeded the credit limit.\n",
        "is_zero_utilization: Binary indicator if credit utilization rate is zero.\n",
        "is_zero_over_limit_count: Binary indicator if the count of over limit instances is zero.\n",
        "is_zero_max_over_limit_count: Binary indicator if the maximum over limit count is zero.\n",
        "\n",
        "Encoded Features:\n",
        "\n",
        "encoded_payment_X: Encoded information about payment X (categorical features converted to numerical values).\n",
        "encoded_loans_account_holder_type: Encoded information about the type of account holder for loans.\n",
        "encoded_loans_credit_status: Encoded information about the credit status of loans.\n",
        "encoded_loans_credit_type: Encoded information about the type of credit for loans.\n",
        "encoded_loans_account_currency: Encoded information about the currency used for loans.\n",
        "\n",
        "Close Flags: (Labels)\n",
        "\n",
        "primary_close_flag: Binary indicator for primary term close.\n",
        "final_close_flag: Binary indicator for final term close."
      ]
    },
    {
      "cell_type": "markdown",
      "metadata": {
        "id": "TLN1TCO9knZI"
      },
      "source": [
        "# Importing Libraries and Datasets"
      ]
    },
    {
      "cell_type": "code",
      "execution_count": 1,
      "metadata": {
        "id": "lrQF4Z8daS3q"
      },
      "outputs": [],
      "source": [
        "import pandas as pd\n",
        "import io\n",
        "import numpy as np\n",
        "from matplotlib import pyplot as plt\n",
        "from sklearn.impute import SimpleImputer\n",
        "from sklearn.preprocessing import MinMaxScaler\n",
        "from sklearn.preprocessing import LabelEncoder"
      ]
    },
    {
      "cell_type": "code",
      "execution_count": 2,
      "metadata": {
        "id": "FqNIAm43ySQC"
      },
      "outputs": [],
      "source": [
        "# For Model building and Training\n",
        "from sklearn.metrics import accuracy_score, classification_report,f1_score\n",
        "from sklearn.metrics import multilabel_confusion_matrix\n",
        "from sklearn.tree import DecisionTreeClassifier\n",
        "from sklearn.model_selection import train_test_split\n",
        "from sklearn.ensemble import RandomForestClassifier\n",
        "from sklearn.linear_model import LogisticRegression\n",
        "\n",
        "from sklearn.model_selection import RandomizedSearchCV\n",
        "from sklearn.neighbors import KNeighborsClassifier\n"
      ]
    },
    {
      "cell_type": "code",
      "execution_count": 3,
      "metadata": {
        "id": "hH39Fp_d_QVb"
      },
      "outputs": [],
      "source": [
        "import time\n",
        "import warnings\n",
        "warnings.filterwarnings(\"ignore\")"
      ]
    },
    {
      "cell_type": "code",
      "execution_count": 4,
      "metadata": {
        "id": "icMwN-gJcyJb"
      },
      "outputs": [],
      "source": [
        "# GPU Execution Prerequsite\n",
        "import sys\n",
        "import os\n",
        "import site\n",
        "sys.path.append(os.path.join(os.path.dirname(site.getsitepackages()[0]), \"site-packages\"))\n"
      ]
    },
    {
      "cell_type": "code",
      "execution_count": null,
      "metadata": {
        "colab": {
          "base_uri": "https://localhost:8080/"
        },
        "id": "Z7O3a4pI-gpB",
        "outputId": "08f22025-fa29-4a8e-b031-9f197907e985"
      },
      "outputs": [
        {
          "name": "stdout",
          "output_type": "stream",
          "text": [
            "/bin/bash: line 1: conda: command not found\n"
          ]
        }
      ],
      "source": [
        "# !wget https://repo.anaconda.com/miniconda/Miniconda3-latest-Linux-x86_64.sh\n",
        "# !chmod +x Miniconda3-latest-Linux-x86_64.sh\n",
        "# !bash ./Miniconda3-latest-Linux-x86_64.sh -b -f -p /usr/local\n",
        "# import sys\n",
        "# sys.path.append('/usr/local/lib/python3.7/site-packages/')\n",
        "# ! conda install -c rapidsai -c nvidia -c conda-forge \\\n",
        "#     -c defaults rapids=0.14 python=3.7 cudatoolkit=10.1\n"
      ]
    },
    {
      "cell_type": "code",
      "execution_count": 5,
      "metadata": {
        "id": "LvhOhX-ZAdoE"
      },
      "outputs": [],
      "source": [
        "# # For Plotting\n",
        "from sklearn.metrics import roc_curve, auc\n",
        "import matplotlib.pyplot as plt"
      ]
    },
    {
      "cell_type": "code",
      "execution_count": 6,
      "metadata": {
        "id": "QFFHWAsMcrvI"
      },
      "outputs": [],
      "source": [
        "# Plot and Other Display Settings.\n",
        "pd.options.display.max_rows = 10\n",
        "pd.options.display.float_format = \"{:.1f}\".format"
      ]
    },
    {
      "cell_type": "code",
      "execution_count": 8,
      "metadata": {
        "id": "5ar2i-fGdYmP"
      },
      "outputs": [],
      "source": [
        "# from google.colab import drive\n",
        "# drive.mount('/content/drive')"
      ]
    },
    {
      "cell_type": "code",
      "execution_count": 44,
      "metadata": {
        "id": "_DAvlHvMgJ39"
      },
      "outputs": [],
      "source": [
        "training_df = pd.read_csv('/content/drive/MyDrive/Colab Notebooks/train.csv')"
      ]
    },
    {
      "cell_type": "code",
      "execution_count": null,
      "metadata": {
        "colab": {
          "base_uri": "https://localhost:8080/",
          "height": 516
        },
        "id": "KbvPuwbrgfY8",
        "outputId": "f30921f6-02ec-4f9a-afc5-936ab5f3c438"
      },
      "outputs": [
        {
          "data": {
            "text/html": [
              "\n",
              "  <div id=\"df-95d3a149-2494-462a-981d-36c2bb378e32\" class=\"colab-df-container\">\n",
              "    <div>\n",
              "<style scoped>\n",
              "    .dataframe tbody tr th:only-of-type {\n",
              "        vertical-align: middle;\n",
              "    }\n",
              "\n",
              "    .dataframe tbody tr th {\n",
              "        vertical-align: top;\n",
              "    }\n",
              "\n",
              "    .dataframe thead th {\n",
              "        text-align: right;\n",
              "    }\n",
              "</style>\n",
              "<table border=\"1\" class=\"dataframe\">\n",
              "  <thead>\n",
              "    <tr style=\"text-align: right;\">\n",
              "      <th></th>\n",
              "      <th>customer_id</th>\n",
              "      <th>firstname</th>\n",
              "      <th>lastname</th>\n",
              "      <th>record_number</th>\n",
              "      <th>days_since_opened</th>\n",
              "      <th>days_since_confirmed</th>\n",
              "      <th>primary_term</th>\n",
              "      <th>final_term</th>\n",
              "      <th>days_till_primary_close</th>\n",
              "      <th>days_till_final_close</th>\n",
              "      <th>...</th>\n",
              "      <th>encoded_payment_21</th>\n",
              "      <th>encoded_payment_22</th>\n",
              "      <th>encoded_payment_23</th>\n",
              "      <th>encoded_payment_24</th>\n",
              "      <th>encoded_loans_account_holder_type</th>\n",
              "      <th>encoded_loans_credit_status</th>\n",
              "      <th>encoded_loans_credit_type</th>\n",
              "      <th>encoded_loans_account_currency</th>\n",
              "      <th>primary_close_flag</th>\n",
              "      <th>final_close_flag</th>\n",
              "    </tr>\n",
              "  </thead>\n",
              "  <tbody>\n",
              "    <tr>\n",
              "      <th>0</th>\n",
              "      <td>4814dfa2-45a8-46b9-8102-98ecbbec2d2a</td>\n",
              "      <td>Navya</td>\n",
              "      <td>Vasa</td>\n",
              "      <td>7</td>\n",
              "      <td>10</td>\n",
              "      <td>8</td>\n",
              "      <td>12</td>\n",
              "      <td>10</td>\n",
              "      <td>13</td>\n",
              "      <td>5</td>\n",
              "      <td>...</td>\n",
              "      <td>0.0</td>\n",
              "      <td>1.0</td>\n",
              "      <td>3.0</td>\n",
              "      <td>4.0</td>\n",
              "      <td>1</td>\n",
              "      <td>3</td>\n",
              "      <td>4</td>\n",
              "      <td>1</td>\n",
              "      <td>0</td>\n",
              "      <td>0</td>\n",
              "    </tr>\n",
              "    <tr>\n",
              "      <th>1</th>\n",
              "      <td>bb0abe41-cc89-4a1d-bb1c-48bd212ae00d</td>\n",
              "      <td>Azad</td>\n",
              "      <td>Warrior</td>\n",
              "      <td>5</td>\n",
              "      <td>15</td>\n",
              "      <td>6</td>\n",
              "      <td>7</td>\n",
              "      <td>6</td>\n",
              "      <td>9</td>\n",
              "      <td>1</td>\n",
              "      <td>...</td>\n",
              "      <td>3.0</td>\n",
              "      <td>3.0</td>\n",
              "      <td>3.0</td>\n",
              "      <td>4.0</td>\n",
              "      <td>1</td>\n",
              "      <td>3</td>\n",
              "      <td>4</td>\n",
              "      <td>1</td>\n",
              "      <td>0</td>\n",
              "      <td>0</td>\n",
              "    </tr>\n",
              "    <tr>\n",
              "      <th>2</th>\n",
              "      <td>edfd1a62-05da-4cfd-b8ae-521f05f0fd5f</td>\n",
              "      <td>Piya</td>\n",
              "      <td>Jha</td>\n",
              "      <td>1</td>\n",
              "      <td>15</td>\n",
              "      <td>17</td>\n",
              "      <td>8</td>\n",
              "      <td>5</td>\n",
              "      <td>9</td>\n",
              "      <td>1</td>\n",
              "      <td>...</td>\n",
              "      <td>3.0</td>\n",
              "      <td>3.0</td>\n",
              "      <td>3.0</td>\n",
              "      <td>4.0</td>\n",
              "      <td>1</td>\n",
              "      <td>3</td>\n",
              "      <td>4</td>\n",
              "      <td>1</td>\n",
              "      <td>0</td>\n",
              "      <td>0</td>\n",
              "    </tr>\n",
              "    <tr>\n",
              "      <th>3</th>\n",
              "      <td>3eaa4c2a-2316-48f4-b1b0-4aafe2286630</td>\n",
              "      <td>Rhea</td>\n",
              "      <td>Varma</td>\n",
              "      <td>11</td>\n",
              "      <td>7</td>\n",
              "      <td>2</td>\n",
              "      <td>11</td>\n",
              "      <td>13</td>\n",
              "      <td>14</td>\n",
              "      <td>8</td>\n",
              "      <td>...</td>\n",
              "      <td>3.0</td>\n",
              "      <td>3.0</td>\n",
              "      <td>3.0</td>\n",
              "      <td>4.0</td>\n",
              "      <td>1</td>\n",
              "      <td>2</td>\n",
              "      <td>4</td>\n",
              "      <td>1</td>\n",
              "      <td>0</td>\n",
              "      <td>0</td>\n",
              "    </tr>\n",
              "    <tr>\n",
              "      <th>4</th>\n",
              "      <td>c9a73239-baae-40eb-8855-dab07767ea86</td>\n",
              "      <td>Sahil</td>\n",
              "      <td>Dave</td>\n",
              "      <td>12</td>\n",
              "      <td>14</td>\n",
              "      <td>9</td>\n",
              "      <td>8</td>\n",
              "      <td>11</td>\n",
              "      <td>6</td>\n",
              "      <td>13</td>\n",
              "      <td>...</td>\n",
              "      <td>3.0</td>\n",
              "      <td>3.0</td>\n",
              "      <td>3.0</td>\n",
              "      <td>4.0</td>\n",
              "      <td>1</td>\n",
              "      <td>3</td>\n",
              "      <td>4</td>\n",
              "      <td>1</td>\n",
              "      <td>0</td>\n",
              "      <td>0</td>\n",
              "    </tr>\n",
              "  </tbody>\n",
              "</table>\n",
              "<p>5 rows × 62 columns</p>\n",
              "</div>\n",
              "    <div class=\"colab-df-buttons\">\n",
              "\n",
              "  <div class=\"colab-df-container\">\n",
              "    <button class=\"colab-df-convert\" onclick=\"convertToInteractive('df-95d3a149-2494-462a-981d-36c2bb378e32')\"\n",
              "            title=\"Convert this dataframe to an interactive table.\"\n",
              "            style=\"display:none;\">\n",
              "\n",
              "  <svg xmlns=\"http://www.w3.org/2000/svg\" height=\"24px\" viewBox=\"0 -960 960 960\">\n",
              "    <path d=\"M120-120v-720h720v720H120Zm60-500h600v-160H180v160Zm220 220h160v-160H400v160Zm0 220h160v-160H400v160ZM180-400h160v-160H180v160Zm440 0h160v-160H620v160ZM180-180h160v-160H180v160Zm440 0h160v-160H620v160Z\"/>\n",
              "  </svg>\n",
              "    </button>\n",
              "\n",
              "  <style>\n",
              "    .colab-df-container {\n",
              "      display:flex;\n",
              "      gap: 12px;\n",
              "    }\n",
              "\n",
              "    .colab-df-convert {\n",
              "      background-color: #E8F0FE;\n",
              "      border: none;\n",
              "      border-radius: 50%;\n",
              "      cursor: pointer;\n",
              "      display: none;\n",
              "      fill: #1967D2;\n",
              "      height: 32px;\n",
              "      padding: 0 0 0 0;\n",
              "      width: 32px;\n",
              "    }\n",
              "\n",
              "    .colab-df-convert:hover {\n",
              "      background-color: #E2EBFA;\n",
              "      box-shadow: 0px 1px 2px rgba(60, 64, 67, 0.3), 0px 1px 3px 1px rgba(60, 64, 67, 0.15);\n",
              "      fill: #174EA6;\n",
              "    }\n",
              "\n",
              "    .colab-df-buttons div {\n",
              "      margin-bottom: 4px;\n",
              "    }\n",
              "\n",
              "    [theme=dark] .colab-df-convert {\n",
              "      background-color: #3B4455;\n",
              "      fill: #D2E3FC;\n",
              "    }\n",
              "\n",
              "    [theme=dark] .colab-df-convert:hover {\n",
              "      background-color: #434B5C;\n",
              "      box-shadow: 0px 1px 3px 1px rgba(0, 0, 0, 0.15);\n",
              "      filter: drop-shadow(0px 1px 2px rgba(0, 0, 0, 0.3));\n",
              "      fill: #FFFFFF;\n",
              "    }\n",
              "  </style>\n",
              "\n",
              "    <script>\n",
              "      const buttonEl =\n",
              "        document.querySelector('#df-95d3a149-2494-462a-981d-36c2bb378e32 button.colab-df-convert');\n",
              "      buttonEl.style.display =\n",
              "        google.colab.kernel.accessAllowed ? 'block' : 'none';\n",
              "\n",
              "      async function convertToInteractive(key) {\n",
              "        const element = document.querySelector('#df-95d3a149-2494-462a-981d-36c2bb378e32');\n",
              "        const dataTable =\n",
              "          await google.colab.kernel.invokeFunction('convertToInteractive',\n",
              "                                                    [key], {});\n",
              "        if (!dataTable) return;\n",
              "\n",
              "        const docLinkHtml = 'Like what you see? Visit the ' +\n",
              "          '<a target=\"_blank\" href=https://colab.research.google.com/notebooks/data_table.ipynb>data table notebook</a>'\n",
              "          + ' to learn more about interactive tables.';\n",
              "        element.innerHTML = '';\n",
              "        dataTable['output_type'] = 'display_data';\n",
              "        await google.colab.output.renderOutput(dataTable, element);\n",
              "        const docLink = document.createElement('div');\n",
              "        docLink.innerHTML = docLinkHtml;\n",
              "        element.appendChild(docLink);\n",
              "      }\n",
              "    </script>\n",
              "  </div>\n",
              "\n",
              "\n",
              "<div id=\"df-f4fa17b8-eda1-4bd9-9e6f-67afa2a1ef63\">\n",
              "  <button class=\"colab-df-quickchart\" onclick=\"quickchart('df-f4fa17b8-eda1-4bd9-9e6f-67afa2a1ef63')\"\n",
              "            title=\"Suggest charts\"\n",
              "            style=\"display:none;\">\n",
              "\n",
              "<svg xmlns=\"http://www.w3.org/2000/svg\" height=\"24px\"viewBox=\"0 0 24 24\"\n",
              "     width=\"24px\">\n",
              "    <g>\n",
              "        <path d=\"M19 3H5c-1.1 0-2 .9-2 2v14c0 1.1.9 2 2 2h14c1.1 0 2-.9 2-2V5c0-1.1-.9-2-2-2zM9 17H7v-7h2v7zm4 0h-2V7h2v10zm4 0h-2v-4h2v4z\"/>\n",
              "    </g>\n",
              "</svg>\n",
              "  </button>\n",
              "\n",
              "<style>\n",
              "  .colab-df-quickchart {\n",
              "      --bg-color: #E8F0FE;\n",
              "      --fill-color: #1967D2;\n",
              "      --hover-bg-color: #E2EBFA;\n",
              "      --hover-fill-color: #174EA6;\n",
              "      --disabled-fill-color: #AAA;\n",
              "      --disabled-bg-color: #DDD;\n",
              "  }\n",
              "\n",
              "  [theme=dark] .colab-df-quickchart {\n",
              "      --bg-color: #3B4455;\n",
              "      --fill-color: #D2E3FC;\n",
              "      --hover-bg-color: #434B5C;\n",
              "      --hover-fill-color: #FFFFFF;\n",
              "      --disabled-bg-color: #3B4455;\n",
              "      --disabled-fill-color: #666;\n",
              "  }\n",
              "\n",
              "  .colab-df-quickchart {\n",
              "    background-color: var(--bg-color);\n",
              "    border: none;\n",
              "    border-radius: 50%;\n",
              "    cursor: pointer;\n",
              "    display: none;\n",
              "    fill: var(--fill-color);\n",
              "    height: 32px;\n",
              "    padding: 0;\n",
              "    width: 32px;\n",
              "  }\n",
              "\n",
              "  .colab-df-quickchart:hover {\n",
              "    background-color: var(--hover-bg-color);\n",
              "    box-shadow: 0 1px 2px rgba(60, 64, 67, 0.3), 0 1px 3px 1px rgba(60, 64, 67, 0.15);\n",
              "    fill: var(--button-hover-fill-color);\n",
              "  }\n",
              "\n",
              "  .colab-df-quickchart-complete:disabled,\n",
              "  .colab-df-quickchart-complete:disabled:hover {\n",
              "    background-color: var(--disabled-bg-color);\n",
              "    fill: var(--disabled-fill-color);\n",
              "    box-shadow: none;\n",
              "  }\n",
              "\n",
              "  .colab-df-spinner {\n",
              "    border: 2px solid var(--fill-color);\n",
              "    border-color: transparent;\n",
              "    border-bottom-color: var(--fill-color);\n",
              "    animation:\n",
              "      spin 1s steps(1) infinite;\n",
              "  }\n",
              "\n",
              "  @keyframes spin {\n",
              "    0% {\n",
              "      border-color: transparent;\n",
              "      border-bottom-color: var(--fill-color);\n",
              "      border-left-color: var(--fill-color);\n",
              "    }\n",
              "    20% {\n",
              "      border-color: transparent;\n",
              "      border-left-color: var(--fill-color);\n",
              "      border-top-color: var(--fill-color);\n",
              "    }\n",
              "    30% {\n",
              "      border-color: transparent;\n",
              "      border-left-color: var(--fill-color);\n",
              "      border-top-color: var(--fill-color);\n",
              "      border-right-color: var(--fill-color);\n",
              "    }\n",
              "    40% {\n",
              "      border-color: transparent;\n",
              "      border-right-color: var(--fill-color);\n",
              "      border-top-color: var(--fill-color);\n",
              "    }\n",
              "    60% {\n",
              "      border-color: transparent;\n",
              "      border-right-color: var(--fill-color);\n",
              "    }\n",
              "    80% {\n",
              "      border-color: transparent;\n",
              "      border-right-color: var(--fill-color);\n",
              "      border-bottom-color: var(--fill-color);\n",
              "    }\n",
              "    90% {\n",
              "      border-color: transparent;\n",
              "      border-bottom-color: var(--fill-color);\n",
              "    }\n",
              "  }\n",
              "</style>\n",
              "\n",
              "  <script>\n",
              "    async function quickchart(key) {\n",
              "      const quickchartButtonEl =\n",
              "        document.querySelector('#' + key + ' button');\n",
              "      quickchartButtonEl.disabled = true;  // To prevent multiple clicks.\n",
              "      quickchartButtonEl.classList.add('colab-df-spinner');\n",
              "      try {\n",
              "        const charts = await google.colab.kernel.invokeFunction(\n",
              "            'suggestCharts', [key], {});\n",
              "      } catch (error) {\n",
              "        console.error('Error during call to suggestCharts:', error);\n",
              "      }\n",
              "      quickchartButtonEl.classList.remove('colab-df-spinner');\n",
              "      quickchartButtonEl.classList.add('colab-df-quickchart-complete');\n",
              "    }\n",
              "    (() => {\n",
              "      let quickchartButtonEl =\n",
              "        document.querySelector('#df-f4fa17b8-eda1-4bd9-9e6f-67afa2a1ef63 button');\n",
              "      quickchartButtonEl.style.display =\n",
              "        google.colab.kernel.accessAllowed ? 'block' : 'none';\n",
              "    })();\n",
              "  </script>\n",
              "</div>\n",
              "    </div>\n",
              "  </div>\n"
            ],
            "text/plain": [
              "                            customer_id firstname lastname  record_number  \\\n",
              "0  4814dfa2-45a8-46b9-8102-98ecbbec2d2a     Navya     Vasa              7   \n",
              "1  bb0abe41-cc89-4a1d-bb1c-48bd212ae00d      Azad  Warrior              5   \n",
              "2  edfd1a62-05da-4cfd-b8ae-521f05f0fd5f      Piya      Jha              1   \n",
              "3  3eaa4c2a-2316-48f4-b1b0-4aafe2286630      Rhea    Varma             11   \n",
              "4  c9a73239-baae-40eb-8855-dab07767ea86     Sahil     Dave             12   \n",
              "\n",
              "   days_since_opened  days_since_confirmed  primary_term  final_term  \\\n",
              "0                 10                     8            12          10   \n",
              "1                 15                     6             7           6   \n",
              "2                 15                    17             8           5   \n",
              "3                  7                     2            11          13   \n",
              "4                 14                     9             8          11   \n",
              "\n",
              "   days_till_primary_close  days_till_final_close  ...  encoded_payment_21  \\\n",
              "0                       13                      5  ...                 0.0   \n",
              "1                        9                      1  ...                 3.0   \n",
              "2                        9                      1  ...                 3.0   \n",
              "3                       14                      8  ...                 3.0   \n",
              "4                        6                     13  ...                 3.0   \n",
              "\n",
              "   encoded_payment_22  encoded_payment_23  encoded_payment_24  \\\n",
              "0                 1.0                 3.0                 4.0   \n",
              "1                 3.0                 3.0                 4.0   \n",
              "2                 3.0                 3.0                 4.0   \n",
              "3                 3.0                 3.0                 4.0   \n",
              "4                 3.0                 3.0                 4.0   \n",
              "\n",
              "   encoded_loans_account_holder_type  encoded_loans_credit_status  \\\n",
              "0                                  1                            3   \n",
              "1                                  1                            3   \n",
              "2                                  1                            3   \n",
              "3                                  1                            2   \n",
              "4                                  1                            3   \n",
              "\n",
              "   encoded_loans_credit_type  encoded_loans_account_currency  \\\n",
              "0                          4                               1   \n",
              "1                          4                               1   \n",
              "2                          4                               1   \n",
              "3                          4                               1   \n",
              "4                          4                               1   \n",
              "\n",
              "   primary_close_flag  final_close_flag  \n",
              "0                   0                 0  \n",
              "1                   0                 0  \n",
              "2                   0                 0  \n",
              "3                   0                 0  \n",
              "4                   0                 0  \n",
              "\n",
              "[5 rows x 62 columns]"
            ]
          },
          "execution_count": 22,
          "metadata": {},
          "output_type": "execute_result"
        }
      ],
      "source": [
        "training_df.head()"
      ]
    },
    {
      "cell_type": "code",
      "execution_count": 11,
      "metadata": {
        "id": "KIQydllVo_D7"
      },
      "outputs": [],
      "source": [
        "testing_df = pd.read_csv('/content/drive/MyDrive/Colab Notebooks/test.csv')"
      ]
    },
    {
      "cell_type": "code",
      "execution_count": 45,
      "metadata": {
        "colab": {
          "base_uri": "https://localhost:8080/"
        },
        "id": "SYZy2X41pHaG",
        "outputId": "77ba48d1-8c56-4bbb-eff9-73a1d110a4b4"
      },
      "outputs": [
        {
          "output_type": "execute_result",
          "data": {
            "text/plain": [
              "(1106674, 62)"
            ]
          },
          "metadata": {},
          "execution_count": 45
        }
      ],
      "source": [
        "training_df.shape"
      ]
    },
    {
      "cell_type": "code",
      "execution_count": 12,
      "metadata": {
        "colab": {
          "base_uri": "https://localhost:8080/"
        },
        "id": "-uGdNZhHpUgt",
        "outputId": "e0ecc385-d4f4-4582-f980-fd145a1da036"
      },
      "outputs": [
        {
          "output_type": "execute_result",
          "data": {
            "text/plain": [
              "(474289, 60)"
            ]
          },
          "metadata": {},
          "execution_count": 12
        }
      ],
      "source": [
        "testing_df.shape"
      ]
    },
    {
      "cell_type": "markdown",
      "metadata": {
        "id": "NcCIiPWzpZvS"
      },
      "source": [
        "training_df.shape = (1106674, 62)\n",
        "> 1.1 Million Records\n",
        "\n",
        "testing_df.shape = (474289, 60)\n",
        "> 0.47 Million Records\n",
        "\n"
      ]
    },
    {
      "cell_type": "markdown",
      "metadata": {
        "id": "LbIlAoY3jAAH"
      },
      "source": [
        "Now, Loaded the data into dataframe, Step2:"
      ]
    },
    {
      "cell_type": "markdown",
      "metadata": {
        "id": "RvEBQE2Xk93_"
      },
      "source": [
        "This is a classification Problem.\n",
        "2 Labels - primary_close_flag\n",
        "         - final_close_flag"
      ]
    },
    {
      "cell_type": "code",
      "execution_count": null,
      "metadata": {
        "colab": {
          "base_uri": "https://localhost:8080/"
        },
        "id": "Elqpn2OGPcit",
        "outputId": "d7108f07-982e-48fa-b6d3-8633138dfc3b"
      },
      "outputs": [
        {
          "name": "stdout",
          "output_type": "stream",
          "text": [
            "<class 'pandas.core.frame.DataFrame'>\n",
            "RangeIndex: 1106674 entries, 0 to 1106673\n",
            "Data columns (total 62 columns):\n",
            " #   Column                              Non-Null Count    Dtype  \n",
            "---  ------                              --------------    -----  \n",
            " 0   customer_id                         1106674 non-null  object \n",
            " 1   firstname                           1106674 non-null  object \n",
            " 2   lastname                            1106674 non-null  object \n",
            " 3   record_number                       1106674 non-null  int64  \n",
            " 4   days_since_opened                   1106674 non-null  int64  \n",
            " 5   days_since_confirmed                1106674 non-null  int64  \n",
            " 6   primary_term                        1106674 non-null  int64  \n",
            " 7   final_term                          1106674 non-null  int64  \n",
            " 8   days_till_primary_close             1106674 non-null  int64  \n",
            " 9   days_till_final_close               1106674 non-null  int64  \n",
            " 10  loans_credit_limit                  1106674 non-null  int64  \n",
            " 11  loans_next_payment_summary          1106674 non-null  int64  \n",
            " 12  loans_outstanding_balance           1106674 non-null  int64  \n",
            " 13  loans_max_overdue_amount            1106674 non-null  int64  \n",
            " 14  loans_credit_cost_rate              1106674 non-null  int64  \n",
            " 15  loans_within_5_days                 1106674 non-null  int64  \n",
            " 16  loans_within_5_to_30_days           1106674 non-null  int64  \n",
            " 17  loans_within_30_to_60_days          1106674 non-null  int64  \n",
            " 18  loans_within_60_to_90_days          1106674 non-null  int64  \n",
            " 19  loans_over_90_days                  1106674 non-null  int64  \n",
            " 20  is_zero_loans_within_5_days         1106674 non-null  object \n",
            " 21  is_zero_loans_within_5_to_30_days   1106674 non-null  object \n",
            " 22  is_zero_loans_within_30_to_60_days  1106674 non-null  object \n",
            " 23  is_zero_loans_within_60_to_90_days  1106674 non-null  object \n",
            " 24  is_zero_loans_over_90_days          1106674 non-null  object \n",
            " 25  utilization                         1106674 non-null  int64  \n",
            " 26  over_limit_count                    1106674 non-null  int64  \n",
            " 27  max_over_limit_count                1106674 non-null  int64  \n",
            " 28  is_zero_utilization                 1106674 non-null  object \n",
            " 29  is_zero_over_limit_count            1106674 non-null  object \n",
            " 30  is_zero_max_over_limit_count        1106674 non-null  object \n",
            " 31  encoded_payment_0                   1069055 non-null  float64\n",
            " 32  encoded_payment_1                   1070930 non-null  float64\n",
            " 33  encoded_payment_2                   1072062 non-null  float64\n",
            " 34  encoded_payment_3                   1069258 non-null  float64\n",
            " 35  encoded_payment_4                   1070834 non-null  float64\n",
            " 36  encoded_payment_5                   1071370 non-null  float64\n",
            " 37  encoded_payment_6                   1068655 non-null  float64\n",
            " 38  encoded_payment_7                   1071045 non-null  float64\n",
            " 39  encoded_payment_8                   1071912 non-null  float64\n",
            " 40  encoded_payment_9                   1070823 non-null  float64\n",
            " 41  encoded_payment_10                  1071039 non-null  float64\n",
            " 42  encoded_payment_11                  1071475 non-null  float64\n",
            " 43  encoded_payment_12                  1068866 non-null  float64\n",
            " 44  encoded_payment_13                  1071323 non-null  float64\n",
            " 45  encoded_payment_14                  1069215 non-null  float64\n",
            " 46  encoded_payment_15                  1070000 non-null  float64\n",
            " 47  encoded_payment_16                  1071962 non-null  float64\n",
            " 48  encoded_payment_17                  1069359 non-null  float64\n",
            " 49  encoded_payment_18                  1071406 non-null  float64\n",
            " 50  encoded_payment_19                  1070293 non-null  float64\n",
            " 51  encoded_payment_20                  1069155 non-null  float64\n",
            " 52  encoded_payment_21                  1069126 non-null  float64\n",
            " 53  encoded_payment_22                  1069519 non-null  float64\n",
            " 54  encoded_payment_23                  1070131 non-null  float64\n",
            " 55  encoded_payment_24                  1070629 non-null  float64\n",
            " 56  encoded_loans_account_holder_type   1106674 non-null  int64  \n",
            " 57  encoded_loans_credit_status         1106674 non-null  int64  \n",
            " 58  encoded_loans_credit_type           1106674 non-null  int64  \n",
            " 59  encoded_loans_account_currency      1106674 non-null  int64  \n",
            " 60  primary_close_flag                  1106674 non-null  int64  \n",
            " 61  final_close_flag                    1106674 non-null  int64  \n",
            "dtypes: float64(25), int64(26), object(11)\n",
            "memory usage: 523.5+ MB\n"
          ]
        }
      ],
      "source": [
        "training_df.info()"
      ]
    },
    {
      "cell_type": "markdown",
      "metadata": {
        "id": "7ktwRd43QmXw"
      },
      "source": [
        "# Data Preprocessing\n",
        "\n",
        "1. Shows that Data is missing in some cells of column encoded_payment_n\n",
        "Defining function and filling the value.\n",
        "\n",
        "Creating generic function which can be used for different learning Models, by passing model as parameter."
      ]
    },
    {
      "cell_type": "markdown",
      "metadata": {
        "id": "MQqXmn5XvE4s"
      },
      "source": [
        "### Step 1: Defining Preprocessing Functions"
      ]
    },
    {
      "cell_type": "code",
      "execution_count": null,
      "metadata": {
        "colab": {
          "base_uri": "https://localhost:8080/"
        },
        "id": "iq3w3n6sMt8K",
        "outputId": "06943f1d-3c36-45fd-cb43-6e84f4f20294"
      },
      "outputs": [
        {
          "data": {
            "text/plain": [
              "{'customer_id': 0,\n",
              " 'firstname': 0,\n",
              " 'lastname': 0,\n",
              " 'record_number': 0,\n",
              " 'days_since_opened': 0,\n",
              " 'days_since_confirmed': 0,\n",
              " 'primary_term': 0,\n",
              " 'final_term': 0,\n",
              " 'days_till_primary_close': 0,\n",
              " 'days_till_final_close': 0,\n",
              " 'loans_credit_limit': 0,\n",
              " 'loans_next_payment_summary': 0,\n",
              " 'loans_outstanding_balance': 0,\n",
              " 'loans_max_overdue_amount': 0,\n",
              " 'loans_credit_cost_rate': 0,\n",
              " 'loans_within_5_days': 0,\n",
              " 'loans_within_5_to_30_days': 0,\n",
              " 'loans_within_30_to_60_days': 0,\n",
              " 'loans_within_60_to_90_days': 0,\n",
              " 'loans_over_90_days': 0,\n",
              " 'is_zero_loans_within_5_days': 0,\n",
              " 'is_zero_loans_within_5_to_30_days': 0,\n",
              " 'is_zero_loans_within_30_to_60_days': 0,\n",
              " 'is_zero_loans_within_60_to_90_days': 0,\n",
              " 'is_zero_loans_over_90_days': 0,\n",
              " 'utilization': 0,\n",
              " 'over_limit_count': 0,\n",
              " 'max_over_limit_count': 0,\n",
              " 'is_zero_utilization': 0,\n",
              " 'is_zero_over_limit_count': 0,\n",
              " 'is_zero_max_over_limit_count': 0,\n",
              " 'encoded_payment_0': 37619,\n",
              " 'encoded_payment_1': 35744,\n",
              " 'encoded_payment_2': 34612,\n",
              " 'encoded_payment_3': 37416,\n",
              " 'encoded_payment_4': 35840,\n",
              " 'encoded_payment_5': 35304,\n",
              " 'encoded_payment_6': 38019,\n",
              " 'encoded_payment_7': 35629,\n",
              " 'encoded_payment_8': 34762,\n",
              " 'encoded_payment_9': 35851,\n",
              " 'encoded_payment_10': 35635,\n",
              " 'encoded_payment_11': 35199,\n",
              " 'encoded_payment_12': 37808,\n",
              " 'encoded_payment_13': 35351,\n",
              " 'encoded_payment_14': 37459,\n",
              " 'encoded_payment_15': 36674,\n",
              " 'encoded_payment_16': 34712,\n",
              " 'encoded_payment_17': 37315,\n",
              " 'encoded_payment_18': 35268,\n",
              " 'encoded_payment_19': 36381,\n",
              " 'encoded_payment_20': 37519,\n",
              " 'encoded_payment_21': 37548,\n",
              " 'encoded_payment_22': 37155,\n",
              " 'encoded_payment_23': 36543,\n",
              " 'encoded_payment_24': 36045,\n",
              " 'encoded_loans_account_holder_type': 0,\n",
              " 'encoded_loans_credit_status': 0,\n",
              " 'encoded_loans_credit_type': 0,\n",
              " 'encoded_loans_account_currency': 0,\n",
              " 'primary_close_flag': 0,\n",
              " 'final_close_flag': 0}"
            ]
          },
          "execution_count": 26,
          "metadata": {},
          "output_type": "execute_result"
        }
      ],
      "source": [
        "dict(training_df.isnull().sum())"
      ]
    },
    {
      "cell_type": "code",
      "execution_count": 13,
      "metadata": {
        "id": "GbIZx2w1Q2af"
      },
      "outputs": [],
      "source": [
        "def fill_missing_value(df):\n",
        "    # columns_with_missing_values = ['encoded_payment_0','encoded_payment_1','encoded_payment_2',\n",
        "    #                                'encoded_payment_3','encoded_payment_4','encoded_payment_5',\n",
        "    #                                'encoded_payment_6','encoded_payment_7','encoded_payment_8',\n",
        "    #                                'encoded_payment_9','encoded_payment_10','encoded_payment_11',\n",
        "    #                                'encoded_payment_12','encoded_payment_13','encoded_payment_14',\n",
        "    #                                'encoded_payment_15','encoded_payment_16','encoded_payment_17',\n",
        "    #                                'encoded_payment_18','encoded_payment_19','encoded_payment_20',\n",
        "    #                                'encoded_payment_21','encoded_payment_22',\n",
        "    #                                'encoded_payment_23','encoded_payment_24']\n",
        "    encoded_features = ['encoded_payment_' + str(i) for i in range(25)]\n",
        "    imputer = SimpleImputer(strategy ='most_frequent')\n",
        "    # df[columns_with_missing_values] = imputer.fit_transform(df[columns_with_missing_values])\n",
        "    df[encoded_features] = imputer.fit_transform(df[encoded_features])\n",
        "\n",
        "    return df"
      ]
    },
    {
      "cell_type": "markdown",
      "metadata": {
        "id": "_VcCKly0lDME"
      },
      "source": [
        "####Commenting Unwanted/test Codes"
      ]
    },
    {
      "cell_type": "code",
      "execution_count": null,
      "metadata": {
        "id": "JQhZ7IRFYQLz"
      },
      "outputs": [],
      "source": [
        "# training_df = fill_missing_value(training_df)"
      ]
    },
    {
      "cell_type": "code",
      "execution_count": null,
      "metadata": {
        "id": "DZwZy0-JYgdV"
      },
      "outputs": [],
      "source": [
        "# columns_with_missing_values = ['encoded_payment_0','encoded_payment_1','encoded_payment_2',\n",
        "#                                    'encoded_payment_3','encoded_payment_4','encoded_payment_5',\n",
        "#                                    'encoded_payment_6','encoded_payment_7','encoded_payment_8',\n",
        "#                                    'encoded_payment_9','encoded_payment_10','encoded_payment_11',\n",
        "#                                    'encoded_payment_12','encoded_payment_13','encoded_payment_14',\n",
        "#                                    'encoded_payment_15','encoded_payment_16','encoded_payment_17',\n",
        "#                                    'encoded_payment_18','encoded_payment_19','encoded_payment_20',\n",
        "#                                    'encoded_payment_21','encoded_payment_22',\n",
        "#                                    'encoded_payment_23','encoded_payment_24']"
      ]
    },
    {
      "cell_type": "code",
      "execution_count": null,
      "metadata": {
        "id": "E_LSx6byYkjI"
      },
      "outputs": [],
      "source": [
        "# Before Filling Missing Values\n",
        "#training_df[columns_with_missing_values].describe()"
      ]
    },
    {
      "cell_type": "code",
      "execution_count": null,
      "metadata": {
        "id": "qVq-WqdSbLkY"
      },
      "outputs": [],
      "source": [
        "# After Filling Missing Value\n",
        "# training_df[columns_with_missing_values].describe()"
      ]
    },
    {
      "cell_type": "code",
      "execution_count": null,
      "metadata": {
        "id": "gm4muDW3bSBH"
      },
      "outputs": [],
      "source": [
        "# training_df.info()\n",
        "# No cells with missing Value"
      ]
    },
    {
      "cell_type": "code",
      "execution_count": null,
      "metadata": {
        "id": "HmGYMa18s4eK"
      },
      "outputs": [],
      "source": [
        "# training_df.describe()"
      ]
    },
    {
      "cell_type": "markdown",
      "metadata": {
        "id": "twQwTKyGLZ_R"
      },
      "source": [
        "#### 2. Dropping unwanted Columns"
      ]
    },
    {
      "cell_type": "code",
      "execution_count": null,
      "metadata": {
        "id": "zgf6pY2SCTkv"
      },
      "outputs": [],
      "source": [
        "# drop_columns = ['customer_id','firstname','lastname']\n",
        "# training_df = training_df.drop(columns=drop_columns)"
      ]
    },
    {
      "cell_type": "code",
      "execution_count": 14,
      "metadata": {
        "id": "JX7wgziGQIKp"
      },
      "outputs": [],
      "source": [
        "def drop_columns(df):\n",
        "    drop_columns = ['customer_id','firstname','lastname']\n",
        "    df = df.drop(columns=drop_columns)\n",
        "    return df"
      ]
    },
    {
      "cell_type": "code",
      "execution_count": null,
      "metadata": {
        "id": "Uz9x1h_-QVa1"
      },
      "outputs": [],
      "source": [
        "# training_df = drop_columns(training_df)"
      ]
    },
    {
      "cell_type": "markdown",
      "metadata": {
        "id": "qwTVYfI-LlKk"
      },
      "source": [
        "3. Standardization/Normalization:"
      ]
    },
    {
      "cell_type": "code",
      "execution_count": 15,
      "metadata": {
        "id": "OIdGbee3LkOD"
      },
      "outputs": [],
      "source": [
        "label = ['primary_close_flag', 'final_close_flag']"
      ]
    },
    {
      "cell_type": "code",
      "execution_count": null,
      "metadata": {
        "id": "B8UxlpjkNyp6"
      },
      "outputs": [],
      "source": [
        "    # for column in df.columns:\n",
        "    #     if column not in label and pd.api.types.is_numeric_dtype(df[column]):\n",
        "    #         data[column] = np.log1p(df[column])\n",
        "\n",
        "    #scaler = StandardScaler()"
      ]
    },
    {
      "cell_type": "code",
      "execution_count": 16,
      "metadata": {
        "id": "R17P4D1sMHuq"
      },
      "outputs": [],
      "source": [
        "def normalization(df):\n",
        "    min_max_scaler = MinMaxScaler()\n",
        "    #x_scaled = min_max_scaler.fit_transform(x)\n",
        "    #df = pd.DataFrame(x_scaled)\n",
        "    label = ['primary_close_flag', 'final_close_flag']\n",
        "\n",
        "    for column in df.columns:\n",
        "        if column not in label and pd.api.types.is_numeric_dtype(df[column]):\n",
        "            df[column] = min_max_scaler.fit_transform(df[[column]])\n",
        "    return df"
      ]
    },
    {
      "cell_type": "code",
      "execution_count": null,
      "metadata": {
        "id": "7PPLet4gOCl0"
      },
      "outputs": [],
      "source": [
        "# training_df = normalization(training_df)"
      ]
    },
    {
      "cell_type": "markdown",
      "metadata": {
        "id": "Wz383PDfOOGg"
      },
      "source": [
        "4. Convert Categorical Values as Numerals. (Encoding):"
      ]
    },
    {
      "cell_type": "code",
      "execution_count": 17,
      "metadata": {
        "id": "7knCLoRBOMnD"
      },
      "outputs": [],
      "source": [
        "def categorical_to_numerals(df):\n",
        "    columns_to_encode = [\n",
        "      'is_zero_loans_within_5_days',\n",
        "      'is_zero_loans_within_5_to_30_days',\n",
        "      'is_zero_loans_within_30_to_60_days',\n",
        "      'is_zero_loans_within_60_to_90_days',\n",
        "      'is_zero_loans_over_90_days',\n",
        "      'is_zero_utilization',\n",
        "      'is_zero_over_limit_count',\n",
        "      'is_zero_max_over_limit_count'\n",
        "      ]\n",
        "\n",
        "    encoder = LabelEncoder()\n",
        "\n",
        "    for column in columns_to_encode:\n",
        "        df[column] = encoder.fit_transform(df[column])\n",
        "    #print('column : ',df.columns)\n",
        "\n",
        "    return df"
      ]
    },
    {
      "cell_type": "code",
      "execution_count": null,
      "metadata": {
        "id": "9Ws6Xp1kPDxa"
      },
      "outputs": [],
      "source": [
        "# training_df = categorical_to_numerals(training_df)"
      ]
    },
    {
      "cell_type": "code",
      "execution_count": 18,
      "metadata": {
        "id": "QMKugH41PNUO"
      },
      "outputs": [],
      "source": [
        "def preprocessing(df):\n",
        "    print(\"Starting Step 1 : fill_missing_value\")\n",
        "    df = fill_missing_value(df)\n",
        "    print(\"Step 1 : fill_missing_value Completed\")\n",
        "    print(\"Starting Step 2 : dropping Columns\")\n",
        "    df = drop_columns(df)\n",
        "    print(\"Step 2 : dropping Columns Completed\")\n",
        "    print(\"Starting Step 3 : normalization\")\n",
        "    df = normalization(df)\n",
        "    print(\"Step 3 : normalization Completed\")\n",
        "    print(\"Starting Step 4 : categorical_to_numerals\")\n",
        "    df = categorical_to_numerals(df)\n",
        "    print(\"Step 4 : categorical_to_numerals Completed\")\n",
        "    return df"
      ]
    },
    {
      "cell_type": "markdown",
      "metadata": {
        "id": "m_ZccV3Mu9d1"
      },
      "source": [
        "### Doing Preprocessing"
      ]
    },
    {
      "cell_type": "code",
      "execution_count": 46,
      "metadata": {
        "colab": {
          "base_uri": "https://localhost:8080/"
        },
        "id": "lLg48DMfS6wF",
        "outputId": "e49d81c3-7d96-4b10-9c09-838c606ad8b0"
      },
      "outputs": [
        {
          "output_type": "stream",
          "name": "stdout",
          "text": [
            "Starting Step 1 : fill_missing_value\n",
            "Step 1 : fill_missing_value Completed\n",
            "Starting Step 2 : dropping Columns\n",
            "Step 2 : dropping Columns Completed\n",
            "Starting Step 3 : normalization\n",
            "Step 3 : normalization Completed\n",
            "Starting Step 4 : categorical_to_numerals\n",
            "Step 4 : categorical_to_numerals Completed\n"
          ]
        }
      ],
      "source": [
        "training_df = preprocessing(training_df)"
      ]
    },
    {
      "cell_type": "code",
      "execution_count": 20,
      "metadata": {
        "colab": {
          "base_uri": "https://localhost:8080/"
        },
        "id": "Y-WDO-eaBTmN",
        "outputId": "e67b363f-b544-4a28-f96a-57213ce1fc5b"
      },
      "outputs": [
        {
          "output_type": "stream",
          "name": "stdout",
          "text": [
            "Starting Step 1 : fill_missing_value\n",
            "Step 1 : fill_missing_value Completed\n",
            "Starting Step 2 : dropping Columns\n",
            "Step 2 : dropping Columns Completed\n",
            "Starting Step 3 : normalization\n",
            "Step 3 : normalization Completed\n",
            "Starting Step 4 : categorical_to_numerals\n",
            "Step 4 : categorical_to_numerals Completed\n"
          ]
        }
      ],
      "source": [
        "testing_df = preprocessing(testing_df)"
      ]
    },
    {
      "cell_type": "code",
      "execution_count": null,
      "metadata": {
        "id": "4z3nihimTYQH"
      },
      "outputs": [],
      "source": [
        "# training_df.describe()"
      ]
    },
    {
      "cell_type": "code",
      "execution_count": null,
      "metadata": {
        "id": "yBvQ8MNRTfFN"
      },
      "outputs": [],
      "source": [
        "# hist_plt = training_df.hist(figsize = (50,40),bins = 50)"
      ]
    },
    {
      "cell_type": "code",
      "execution_count": null,
      "metadata": {
        "id": "hHNl1A7sUkAe"
      },
      "outputs": [],
      "source": [
        "# training_df.describe()"
      ]
    },
    {
      "cell_type": "code",
      "execution_count": null,
      "metadata": {
        "id": "y5QIwHj6dHgh"
      },
      "outputs": [],
      "source": [
        "# flags= ['primary_close_flag','final_close_flag']\n",
        "# training_df[flags].head(100)"
      ]
    },
    {
      "cell_type": "markdown",
      "metadata": {
        "id": "TZbcbwIYOwbA"
      },
      "source": [
        "## Exploratory Data Analysis\n",
        "We See Correlation matrix, and other visualisation techniques to visuale the data to get understanding of the data."
      ]
    },
    {
      "cell_type": "code",
      "execution_count": null,
      "metadata": {
        "id": "dPKSTRGbPF_2"
      },
      "outputs": [],
      "source": [
        "#TO_DO\n",
        "# Correlation Matrix"
      ]
    },
    {
      "cell_type": "code",
      "execution_count": null,
      "metadata": {
        "colab": {
          "base_uri": "https://localhost:8080/"
        },
        "id": "L_OIgq8x1EEe",
        "outputId": "519883ed-4326-4a87-bcdd-73dcb876ae64"
      },
      "outputs": [
        {
          "data": {
            "text/plain": [
              "0.16817870483990768"
            ]
          },
          "execution_count": 35,
          "metadata": {},
          "output_type": "execute_result"
        }
      ],
      "source": [
        "sum(training_df['primary_close_flag'] != training_df['final_close_flag'])/len(training_df)\n",
        "# Checking Propotion of 2 Output Labels which different in primary and Final Flags"
      ]
    },
    {
      "cell_type": "code",
      "execution_count": 21,
      "metadata": {
        "id": "isNMgoHGSyfg"
      },
      "outputs": [],
      "source": [
        "def split_data():\n",
        "    #Splitting the data for Training\n",
        "    x = training_df.drop(columns=label)\n",
        "    y = training_df[label]\n",
        "    x_train, x_test, y_train, y_test = train_test_split(x, y, test_size=0.3, random_state=30)\n",
        "    return x,y,x_train, x_test, y_train, y_test"
      ]
    },
    {
      "cell_type": "code",
      "execution_count": 22,
      "metadata": {
        "colab": {
          "base_uri": "https://localhost:8080/"
        },
        "id": "Onepm3GA6vBc",
        "outputId": "357f39c8-c898-46d5-e6e9-eab07360f572"
      },
      "outputs": [
        {
          "output_type": "stream",
          "name": "stdout",
          "text": [
            "splitting data\n"
          ]
        }
      ],
      "source": [
        "print(\"splitting data\")\n",
        "x,y,x_train, x_test, y_train, y_test = split_data()"
      ]
    },
    {
      "cell_type": "markdown",
      "metadata": {
        "id": "j6WAT8zu36a-"
      },
      "source": [
        "Feature Selection\n"
      ]
    },
    {
      "cell_type": "code",
      "execution_count": null,
      "metadata": {
        "id": "gH7GLl7z4bje"
      },
      "outputs": [],
      "source": []
    },
    {
      "cell_type": "markdown",
      "metadata": {
        "id": "RDifGO0a4Y3j"
      },
      "source": [
        "Correlation Factors"
      ]
    },
    {
      "cell_type": "markdown",
      "metadata": {
        "id": "qGpN10wH4akO"
      },
      "source": [
        "\n",
        "Variance ThresHolds"
      ]
    },
    {
      "cell_type": "markdown",
      "metadata": {
        "id": "hsgAbP5nVfsI"
      },
      "source": [
        "# Medelling and Training\n"
      ]
    },
    {
      "cell_type": "markdown",
      "metadata": {
        "id": "9xo_gu-ybMTs"
      },
      "source": [
        "## Generalised Function for Training and testing\n",
        "\n",
        "Classifier Function :\n",
        "--\n",
        "Performance Metrices:\n",
        "--\n",
        "* accuracy,\n",
        "* precision,\n",
        "* recall, and\n",
        "* F1-score\n",
        "\n",
        "ROC_AUC Curve\n",
        "--"
      ]
    },
    {
      "cell_type": "code",
      "execution_count": 23,
      "metadata": {
        "id": "FVPu24olS3O4"
      },
      "outputs": [],
      "source": [
        "def fit_model(classifier):\n",
        "    class_model = classifier\n",
        "    return class_model.fit(x_train,y_train)"
      ]
    },
    {
      "cell_type": "code",
      "execution_count": 24,
      "metadata": {
        "id": "md0K4dA4S95q"
      },
      "outputs": [],
      "source": [
        "def predict(class_model,data_set):\n",
        "    return class_model.predict(data_set)"
      ]
    },
    {
      "cell_type": "code",
      "execution_count": 25,
      "metadata": {
        "id": "UXnkOnpUSvel"
      },
      "outputs": [],
      "source": [
        "def print_accuracy(pred):\n",
        "    # for classification we use accuracy and F1 score\n",
        "    acc_score = accuracy_score(y_test,pred)\n",
        "    print(\"Accuracy Score : \",acc_score)\n",
        "    f_score = f1_score(y_test,pred,average='weighted')\n",
        "    print(\"F1 Score : \",f_score)\n",
        "    print(\"Multilabel Confusion Matrix:\")\n",
        "    print(multilabel_confusion_matrix(y_test, pred))\n",
        "    print(\"Classification Report:\")\n",
        "    print(classification_report(y_test, pred))"
      ]
    },
    {
      "cell_type": "code",
      "execution_count": 26,
      "metadata": {
        "id": "zlyGthFvTQyd"
      },
      "outputs": [],
      "source": [
        "def predict_score(classifier_name):\n",
        "    #Calculate Score of Classifier on test data\n",
        "    score = classifier_name.score(x_test, y_test)\n",
        "    print(\"Score on Test Data: \",score)"
      ]
    },
    {
      "cell_type": "code",
      "execution_count": 27,
      "metadata": {
        "id": "OfSA08vEQjej"
      },
      "outputs": [],
      "source": [
        "def train_model(classifier):\n",
        "    print(\"splitting data\")\n",
        "    x,y,x_train, x_test, y_train, y_test = split_data()\n",
        "    print(\"fitting model\")\n",
        "    print(\"y_train\")\n",
        "    print(y_train.info())\n",
        "    classifier_name = fit_model (classifier)\n",
        "    # local()[var_name]\n",
        "    print(\"Predicting x_test\")\n",
        "    predictions = predict(classifier_name,x_test)\n",
        "    print(\"Printing accuracies\")\n",
        "    print_accuracy(predictions)\n",
        "    predict_score(classifier_name)\n",
        "\n",
        "    return classifier_name\n"
      ]
    },
    {
      "cell_type": "markdown",
      "metadata": {
        "id": "98gv1Jo0LFiR"
      },
      "source": [
        "\n",
        "\n",
        "```\n",
        "def print_accuracy(pred,classifier_name):\n",
        "    # for classification we use accuracy and F1 score\n",
        "    acc_score = accuracy_score(y_test,pred)\n",
        "    print(\"Accuracy Score : \",acc_score)\n",
        "    f_score = f1_score(y_test,pred,average='weighted')\n",
        "    print(\"F1 Score : \",f_score)\n",
        "    print(\"Multilabel Confusion Matrix:\")\n",
        "    print(multilabel_confusion_matrix(y_test, pred))\n",
        "    print(\"Classification Report:\")\n",
        "    print(classification_report(y_test, pred))\n",
        "    #Calculate Score of Classifier on test data\n",
        "    score = classifier_name.score(x_test, y_test)\n",
        "    print(\"Score on Test Data: \",score)\n",
        "```\n",
        "\n"
      ]
    },
    {
      "cell_type": "markdown",
      "metadata": {
        "id": "vNQBgqrZLTgy"
      },
      "source": [
        "\n",
        "\n",
        "```\n",
        "def split_data():\n",
        "    #Splitting the data for Training\n",
        "    x = training_df.drop(columns=label)\n",
        "    y = training_df[label]\n",
        "    x_train, x_test, y_train, y_test = train_test_split(x, y, test_size=0.3, random_state=30)\n",
        "    return x,y,x_train, x_test, y_train, y_test\n",
        "```\n",
        "\n"
      ]
    },
    {
      "cell_type": "markdown",
      "metadata": {
        "id": "oT-7ryDO9jkL"
      },
      "source": [
        "```\n",
        "def train_model(classifier):\n",
        "    def split_data():\n",
        "        #Splitting the data for Training\n",
        "        x = training_df.drop(columns=label)\n",
        "        y = training_df[label]\n",
        "        x_train, x_test, y_train, y_test = train_test_split(x, y, test_size=0.3, random_state=30)\n",
        "        return x,y,x_train, x_test, y_train, y_test\n",
        "    def fit_model(classifier):\n",
        "        class_model = classifier\n",
        "        return class_model.fit(x_train,y_train)\n",
        "    def predict(class_model,data_set):\n",
        "        return class_model.predict(data_set)\n",
        "    def print_accuracy(pred):\n",
        "        # for classification we use accuracy and F1 score\n",
        "        acc_score = accuracy_score(y_test,pred)\n",
        "        print(\"Accuracy Score : \",acc_score)\n",
        "        f_score = f1_score(y_test,pred,average='weighted')\n",
        "        print(\"F1 Score : \",f_score)\n",
        "        print(\"Multilabel Confusion Matrix:\")\n",
        "        print(multilabel_confusion_matrix(y_test, pred))\n",
        "        print(\"Classification Report:\")\n",
        "        print(classification_report(y_test, pred))\n",
        "        #Calculate Score of Classifier on test data\n",
        "        score = classifier_name.score(x_test, y_test)\n",
        "        print(\"Score on Test Data: \",score)\n",
        "    print(\"splitting data\")\n",
        "    x,y,x_train, x_test, y_train, y_test = split_data()\n",
        "    print(\"fitting model\")\n",
        "    print(\"y_train\")\n",
        "    print(y_train.info())\n",
        "    classifier_name = fit_model (classifier)\n",
        "    # local()[var_name]\n",
        "    print(\"Predicting x_test\")\n",
        "    predictions = predict(classifier_name,x_test)\n",
        "    print(\"Printing accuracies\")\n",
        "    <!-- print_accuracy(predictions) -->\n",
        "    print_accuracy(predictions,classifier_name)\n",
        "\n",
        "    try:\n",
        "        # Get the predicted probabilities or decision scores\n",
        "        if hasattr(classifier_name, \"predict_proba\"):\n",
        "            y_score = classifier_name.predict_proba(x_test)[:, 1]\n",
        "        elif hasattr(classifier_name, \"decision_function\"):\n",
        "            y_score = classifier_name.decision_function(x_test)\n",
        "        else:\n",
        "            raise RuntimeError(\"The classifier does not have a predict_proba or decision_function method.\")\n",
        "\n",
        "        # Calculate the false positive rates and true positive rates\n",
        "        fpr, tpr, _ = roc_curve(y_test, y_score)\n",
        "        # Calculate the AUC\n",
        "        roc_auc = auc(fpr, tpr)\n",
        "\n",
        "        # Plot the ROC curve\n",
        "        plt.plot(fpr, tpr, label='ROC curve (area = %0.2f)' % roc_auc)\n",
        "        plt.plot([0, 1], [0, 1], 'k--')\n",
        "        plt.xlabel('False Positive Rate')\n",
        "        plt.ylabel('True Positive Rate')\n",
        "        plt.title('ROC Curve')\n",
        "        plt.legend(loc=\"lower right\")\n",
        "        plt.show()\n",
        "    except RuntimeError or TypeError as e:\n",
        "        print(e)\n",
        "\n",
        "\n",
        "    return classifier_name\n",
        "\n",
        "```\n",
        "\n"
      ]
    },
    {
      "cell_type": "markdown",
      "metadata": {
        "id": "zT5VKkgCWs_h"
      },
      "source": [
        "Models Used:\n",
        "--\n",
        "*   Decision Trees (no.1)\n",
        "*   Random Forests (no.2) -- More accurate then Decision Tree.\n",
        "*   KNN Classifier\n",
        "\n",
        "Then it is fine tuned for better result."
      ]
    },
    {
      "cell_type": "markdown",
      "metadata": {
        "id": "OEwtqgy1xvxy"
      },
      "source": [
        "### 1. Decision Tree Classifier\n",
        "Built manually."
      ]
    },
    {
      "cell_type": "code",
      "execution_count": null,
      "metadata": {
        "id": "Pgfbj4FnzB2f"
      },
      "outputs": [],
      "source": [
        "# Reindexing data before splitting data for Training.\n",
        "#train_df = training_df.reindex(np.random.permutation(training_df.index))\n",
        "# Not Req since, train_test_split contains random_state, which randomises the data before splitting"
      ]
    },
    {
      "cell_type": "code",
      "execution_count": null,
      "metadata": {
        "id": "oJ7UTcqD4d2s"
      },
      "outputs": [],
      "source": [
        "# train_df = training_df so, training_df is not disturbed.\n",
        "# train_df = training_df"
      ]
    },
    {
      "cell_type": "code",
      "execution_count": null,
      "metadata": {
        "id": "yScsdm8fz-yp"
      },
      "outputs": [],
      "source": [
        "#Splitting the data for Training\n",
        "X = training_df.drop(columns=label)\n",
        "y = training_df[label]\n",
        "x_train, x_test, y_train, y_test = train_test_split(X, y, test_size=0.3, random_state=30)\n",
        "#test data contains 30% for testing, and random state = 30"
      ]
    },
    {
      "cell_type": "code",
      "execution_count": null,
      "metadata": {
        "colab": {
          "base_uri": "https://localhost:8080/"
        },
        "id": "6Mp5E_ptzwIY",
        "outputId": "e2b09753-d937-48c1-d089-9dd72adc65d3"
      },
      "outputs": [
        {
          "name": "stdout",
          "output_type": "stream",
          "text": [
            "Time Take :  0.1996306856473287 minutes\n"
          ]
        }
      ],
      "source": [
        "# DT_model = make_pipeline(MinMaxScaler(), DecisionTreeClassifier())\n",
        "start_time = time.time()\n",
        "DT_model= DecisionTreeClassifier()\n",
        "DT_model.fit(x_train,y_train)\n",
        "print('Time Take :  %s minutes' % ((time.time() - start_time)/60))"
      ]
    },
    {
      "cell_type": "code",
      "execution_count": null,
      "metadata": {
        "colab": {
          "base_uri": "https://localhost:8080/"
        },
        "id": "5_XCev5LB9WG",
        "outputId": "cd46b439-672a-474c-898d-ae6df0b334b0"
      },
      "outputs": [
        {
          "name": "stdout",
          "output_type": "stream",
          "text": [
            "Time Take :  0.002860466639200846 minutes\n"
          ]
        }
      ],
      "source": [
        "#Evaluating the model\n",
        "# We use the predict() on the model to predict the output\n",
        "start_time = time.time()\n",
        "pred=DT_model.predict(x_test)\n",
        "print('Time Take :  %s minutes' % ((time.time() - start_time)/60))"
      ]
    },
    {
      "cell_type": "code",
      "execution_count": null,
      "metadata": {
        "colab": {
          "base_uri": "https://localhost:8080/"
        },
        "id": "uVEIhsQ21DgY",
        "outputId": "379f1a81-06a4-4a5b-fba3-2b4adc4dda92"
      },
      "outputs": [
        {
          "name": "stdout",
          "output_type": "stream",
          "text": [
            "Accuracy Score :  0.99983132682536\n",
            "F1 Score :  0.9997123049378375\n",
            "Multilabel Confusion Matrix:\n",
            "[[[289234     23]\n",
            "  [    29  42717]]\n",
            "\n",
            " [[268722      6]\n",
            "  [     3  63272]]]\n",
            " \n",
            "Classification Report:\n",
            "              precision    recall  f1-score   support\n",
            "\n",
            "           0       1.00      1.00      1.00     42746\n",
            "           1       1.00      1.00      1.00     63275\n",
            "\n",
            "   micro avg       1.00      1.00      1.00    106021\n",
            "   macro avg       1.00      1.00      1.00    106021\n",
            "weighted avg       1.00      1.00      1.00    106021\n",
            " samples avg       0.24      0.24      0.24    106021\n",
            "\n",
            "Score on Test Data:  0.99983132682536\n"
          ]
        }
      ],
      "source": [
        "# for classification we use accuracy and F1 score\n",
        "acc_score = accuracy_score(y_test,pred)\n",
        "print(\"Accuracy Score : \",acc_score)\n",
        "\n",
        "# accuracy = accuracy_score(y_test, predictions)\n",
        "# print(\"Accuracy:\", accuracy)\n",
        "# print()\n",
        "\n",
        "f_score = f1_score(y_test,pred,average='weighted')\n",
        "print(\"F1 Score : \",f_score)\n",
        "\n",
        "print(\"Multilabel Confusion Matrix:\")\n",
        "print(multilabel_confusion_matrix(y_test, pred))\n",
        "print(\" \")\n",
        "\n",
        "print(\"Classification Report:\")\n",
        "print(classification_report(y_test, pred))\n",
        "\n",
        "#Calculate Score of Classifier on test data\n",
        "score = DT_model.score(x_test, y_test)\n",
        "print(\"Score on Test Data: \",score)\n"
      ]
    },
    {
      "cell_type": "markdown",
      "metadata": {
        "id": "KyoX_vJYZWlC"
      },
      "source": [
        "### 2. RandomForestClassifier"
      ]
    },
    {
      "cell_type": "code",
      "execution_count": null,
      "metadata": {
        "colab": {
          "base_uri": "https://localhost:8080/"
        },
        "id": "8UTsrYNAXssw",
        "outputId": "aca3743d-1f34-4975-82c9-76889d03d279"
      },
      "outputs": [
        {
          "name": "stdout",
          "output_type": "stream",
          "text": [
            "splitting data\n",
            "fitting model\n",
            "y_train\n",
            "<class 'pandas.core.frame.DataFrame'>\n",
            "Int64Index: 774671 entries, 314016 to 431909\n",
            "Data columns (total 2 columns):\n",
            " #   Column              Non-Null Count   Dtype\n",
            "---  ------              --------------   -----\n",
            " 0   primary_close_flag  774671 non-null  int64\n",
            " 1   final_close_flag    774671 non-null  int64\n",
            "dtypes: int64(2)\n",
            "memory usage: 17.7 MB\n",
            "None\n",
            "Predicting x_test\n",
            "Printing accuracies\n",
            "Accuracy Score :  0.99989457926585\n",
            "F1 Score :  0.999830187299605\n",
            "Multilabel Confusion Matrix:\n",
            "[[[289251      6]\n",
            "  [    26  42720]]\n",
            "\n",
            " [[268725      3]\n",
            "  [     1  63274]]]\n",
            "Classification Report:\n",
            "              precision    recall  f1-score   support\n",
            "\n",
            "           0       1.00      1.00      1.00     42746\n",
            "           1       1.00      1.00      1.00     63275\n",
            "\n",
            "   micro avg       1.00      1.00      1.00    106021\n",
            "   macro avg       1.00      1.00      1.00    106021\n",
            "weighted avg       1.00      1.00      1.00    106021\n",
            " samples avg       0.24      0.24      0.24    106021\n",
            "\n",
            "Score on Test Data:  0.99989457926585\n"
          ]
        }
      ],
      "source": [
        "RandomForestClassifier = train_model(RandomForestClassifier())"
      ]
    },
    {
      "cell_type": "markdown",
      "metadata": {
        "id": "gf5t5uaEodIG"
      },
      "source": [
        "### KNN Classifier ??\n",
        "from sklearn.neighbors import KNeighborsClassifier\n",
        "KNNClassifier = train_model(KNeighborsClassifier())\n",
        "\n",
        "Time Taken : ???\n",
        "\n",
        "This model is computationally too expensive, so, its better to take previous models and fine tune the models for better results."
      ]
    },
    {
      "cell_type": "code",
      "execution_count": 28,
      "metadata": {
        "id": "Z-5HjgDCpGCN"
      },
      "outputs": [],
      "source": [
        "# from sklearn.neighbors import KNeighborsClassifier\n",
        "# KNNClassifier = train_model(KNeighborsClassifier())"
      ]
    },
    {
      "cell_type": "markdown",
      "metadata": {
        "id": "qkZgtD1XUBzi"
      },
      "source": [
        "### Classifier:"
      ]
    },
    {
      "cell_type": "code",
      "execution_count": null,
      "metadata": {
        "id": "HXIBlucDgojc"
      },
      "outputs": [],
      "source": [
        "params = {\"n_neighbors\": 5, \"weights\": \"distance\", \"n_jobs\": -1}\n",
        "classifier = KNeighborsClassifier(**params)"
      ]
    },
    {
      "cell_type": "code",
      "execution_count": null,
      "metadata": {
        "colab": {
          "base_uri": "https://localhost:8080/",
          "height": 75
        },
        "id": "ce7i--nCgrUb",
        "outputId": "56934dc2-04e3-42c5-c3bb-73d2d1ef8695"
      },
      "outputs": [
        {
          "data": {
            "text/html": [
              "<style>#sk-container-id-1 {color: black;background-color: white;}#sk-container-id-1 pre{padding: 0;}#sk-container-id-1 div.sk-toggleable {background-color: white;}#sk-container-id-1 label.sk-toggleable__label {cursor: pointer;display: block;width: 100%;margin-bottom: 0;padding: 0.3em;box-sizing: border-box;text-align: center;}#sk-container-id-1 label.sk-toggleable__label-arrow:before {content: \"▸\";float: left;margin-right: 0.25em;color: #696969;}#sk-container-id-1 label.sk-toggleable__label-arrow:hover:before {color: black;}#sk-container-id-1 div.sk-estimator:hover label.sk-toggleable__label-arrow:before {color: black;}#sk-container-id-1 div.sk-toggleable__content {max-height: 0;max-width: 0;overflow: hidden;text-align: left;background-color: #f0f8ff;}#sk-container-id-1 div.sk-toggleable__content pre {margin: 0.2em;color: black;border-radius: 0.25em;background-color: #f0f8ff;}#sk-container-id-1 input.sk-toggleable__control:checked~div.sk-toggleable__content {max-height: 200px;max-width: 100%;overflow: auto;}#sk-container-id-1 input.sk-toggleable__control:checked~label.sk-toggleable__label-arrow:before {content: \"▾\";}#sk-container-id-1 div.sk-estimator input.sk-toggleable__control:checked~label.sk-toggleable__label {background-color: #d4ebff;}#sk-container-id-1 div.sk-label input.sk-toggleable__control:checked~label.sk-toggleable__label {background-color: #d4ebff;}#sk-container-id-1 input.sk-hidden--visually {border: 0;clip: rect(1px 1px 1px 1px);clip: rect(1px, 1px, 1px, 1px);height: 1px;margin: -1px;overflow: hidden;padding: 0;position: absolute;width: 1px;}#sk-container-id-1 div.sk-estimator {font-family: monospace;background-color: #f0f8ff;border: 1px dotted black;border-radius: 0.25em;box-sizing: border-box;margin-bottom: 0.5em;}#sk-container-id-1 div.sk-estimator:hover {background-color: #d4ebff;}#sk-container-id-1 div.sk-parallel-item::after {content: \"\";width: 100%;border-bottom: 1px solid gray;flex-grow: 1;}#sk-container-id-1 div.sk-label:hover label.sk-toggleable__label {background-color: #d4ebff;}#sk-container-id-1 div.sk-serial::before {content: \"\";position: absolute;border-left: 1px solid gray;box-sizing: border-box;top: 0;bottom: 0;left: 50%;z-index: 0;}#sk-container-id-1 div.sk-serial {display: flex;flex-direction: column;align-items: center;background-color: white;padding-right: 0.2em;padding-left: 0.2em;position: relative;}#sk-container-id-1 div.sk-item {position: relative;z-index: 1;}#sk-container-id-1 div.sk-parallel {display: flex;align-items: stretch;justify-content: center;background-color: white;position: relative;}#sk-container-id-1 div.sk-item::before, #sk-container-id-1 div.sk-parallel-item::before {content: \"\";position: absolute;border-left: 1px solid gray;box-sizing: border-box;top: 0;bottom: 0;left: 50%;z-index: -1;}#sk-container-id-1 div.sk-parallel-item {display: flex;flex-direction: column;z-index: 1;position: relative;background-color: white;}#sk-container-id-1 div.sk-parallel-item:first-child::after {align-self: flex-end;width: 50%;}#sk-container-id-1 div.sk-parallel-item:last-child::after {align-self: flex-start;width: 50%;}#sk-container-id-1 div.sk-parallel-item:only-child::after {width: 0;}#sk-container-id-1 div.sk-dashed-wrapped {border: 1px dashed gray;margin: 0 0.4em 0.5em 0.4em;box-sizing: border-box;padding-bottom: 0.4em;background-color: white;}#sk-container-id-1 div.sk-label label {font-family: monospace;font-weight: bold;display: inline-block;line-height: 1.2em;}#sk-container-id-1 div.sk-label-container {text-align: center;}#sk-container-id-1 div.sk-container {/* jupyter's `normalize.less` sets `[hidden] { display: none; }` but bootstrap.min.css set `[hidden] { display: none !important; }` so we also need the `!important` here to be able to override the default hidden behavior on the sphinx rendered scikit-learn.org. See: https://github.com/scikit-learn/scikit-learn/issues/21755 */display: inline-block !important;position: relative;}#sk-container-id-1 div.sk-text-repr-fallback {display: none;}</style><div id=\"sk-container-id-1\" class=\"sk-top-container\"><div class=\"sk-text-repr-fallback\"><pre>KNeighborsClassifier(n_jobs=-1, weights=&#x27;distance&#x27;)</pre><b>In a Jupyter environment, please rerun this cell to show the HTML representation or trust the notebook. <br />On GitHub, the HTML representation is unable to render, please try loading this page with nbviewer.org.</b></div><div class=\"sk-container\" hidden><div class=\"sk-item\"><div class=\"sk-estimator sk-toggleable\"><input class=\"sk-toggleable__control sk-hidden--visually\" id=\"sk-estimator-id-1\" type=\"checkbox\" checked><label for=\"sk-estimator-id-1\" class=\"sk-toggleable__label sk-toggleable__label-arrow\">KNeighborsClassifier</label><div class=\"sk-toggleable__content\"><pre>KNeighborsClassifier(n_jobs=-1, weights=&#x27;distance&#x27;)</pre></div></div></div></div></div>"
            ],
            "text/plain": [
              "KNeighborsClassifier(n_jobs=-1, weights='distance')"
            ]
          },
          "execution_count": 51,
          "metadata": {},
          "output_type": "execute_result"
        }
      ],
      "source": [
        "classifier"
      ]
    },
    {
      "cell_type": "code",
      "execution_count": null,
      "metadata": {
        "colab": {
          "base_uri": "https://localhost:8080/"
        },
        "id": "QdrE8AqnUFND",
        "outputId": "0f0f9323-37ac-4f2b-a7ba-92c9f35cd34a"
      },
      "outputs": [
        {
          "name": "stdout",
          "output_type": "stream",
          "text": [
            "fitting model\n",
            "y_train\n",
            "<class 'pandas.core.frame.DataFrame'>\n",
            "Int64Index: 774671 entries, 314016 to 431909\n",
            "Data columns (total 2 columns):\n",
            " #   Column              Non-Null Count   Dtype\n",
            "---  ------              --------------   -----\n",
            " 0   primary_close_flag  774671 non-null  int64\n",
            " 1   final_close_flag    774671 non-null  int64\n",
            "dtypes: int64(2)\n",
            "memory usage: 17.7 MB\n",
            "None\n",
            "Predicting x_test\n",
            "Printing accuracies\n",
            "Accuracy Score :  0.9328951846820661\n",
            "F1 Score :  0.8846797280157356\n",
            "Multilabel Confusion Matrix:\n",
            "[[[283468   5789]\n",
            "  [  4173  38573]]\n",
            "\n",
            " [[261773   6955]\n",
            "  [  7641  55634]]]\n",
            "Classification Report:\n",
            "              precision    recall  f1-score   support\n",
            "\n",
            "           0       0.87      0.90      0.89     42746\n",
            "           1       0.89      0.88      0.88     63275\n",
            "\n",
            "   micro avg       0.88      0.89      0.88    106021\n",
            "   macro avg       0.88      0.89      0.88    106021\n",
            "weighted avg       0.88      0.89      0.88    106021\n",
            " samples avg       0.21      0.21      0.21    106021\n",
            "\n",
            "Score on Test Data:  0.9328951846820661\n"
          ]
        }
      ],
      "source": [
        "# classifier = KNeighborsClassifier()\n",
        "print(\"fitting model\")\n",
        "print(\"y_train\")\n",
        "print(y_train.info())\n",
        "classifier_name = fit_model (classifier)\n",
        "# local()[var_name]\n",
        "print(\"Predicting x_test\")\n",
        "predictions = predict(classifier_name,x_test)\n",
        "print(\"Printing accuracies\")\n",
        "print_accuracy(predictions)\n",
        "predict_score(classifier_name)"
      ]
    },
    {
      "cell_type": "markdown",
      "metadata": {
        "id": "flubAlxXZhNn"
      },
      "source": [
        "## Predicting O/P on testing_df for submission."
      ]
    },
    {
      "cell_type": "markdown",
      "metadata": {
        "id": "_uc_8glPc_Se"
      },
      "source": [
        "### Generalised Model"
      ]
    },
    {
      "cell_type": "code",
      "execution_count": null,
      "metadata": {
        "id": "SQMexPxJjNf-"
      },
      "outputs": [],
      "source": [
        "def test_predict(model_obj,model_name):\n",
        "    if type(model_name) != str:\n",
        "        return false\n",
        "    print(\"Predicting\")\n",
        "    predictions_sub = model_obj.predict(testing_df)\n",
        "    print(\"DataFrame\")\n",
        "    df_submissions = pd.DataFrame({\n",
        "        'primary_close_flag': predictions_sub[:, 0],\n",
        "        'final_close_flag': predictions_sub[:, 1]\n",
        "    })\n",
        "    print(\"To_CSV\")\n",
        "    df_submissions.to_csv('/content/drive/MyDrive/Colab Notebooks/submit_'+model_name+'.csv', index=False)\n",
        "    print(\"completed\")"
      ]
    },
    {
      "cell_type": "markdown",
      "metadata": {
        "id": "CHkEt3vBdJDM"
      },
      "source": [
        "### Predicting for various Models & Submission\n",
        "Calling test_predict function to predict and preparing csv for submission."
      ]
    },
    {
      "cell_type": "code",
      "execution_count": null,
      "metadata": {
        "id": "7BYO1_Iwj7i3"
      },
      "outputs": [],
      "source": [
        "# test_predict(LogisticRegressionClassifier,'LogisticRegressionClassifier')"
      ]
    },
    {
      "cell_type": "code",
      "execution_count": null,
      "metadata": {
        "id": "2zJthz7FddX-"
      },
      "outputs": [],
      "source": [
        "# test_predict(RandomForestClassifier,'RandomForestClassifier')"
      ]
    },
    {
      "cell_type": "code",
      "execution_count": null,
      "metadata": {
        "id": "vDIH7o4bo_GZ"
      },
      "outputs": [],
      "source": [
        "# test_predict(LogisticRegressionClassifier,'LogisticRegressionClassifier')"
      ]
    },
    {
      "cell_type": "code",
      "execution_count": null,
      "metadata": {
        "id": "UCv6EkCzpBuz"
      },
      "outputs": [],
      "source": [
        "# test_predict(SVMClassifier_OvO,'SVMClassifier_OvO')"
      ]
    },
    {
      "cell_type": "code",
      "execution_count": null,
      "metadata": {
        "id": "Xo85E56bpAwZ"
      },
      "outputs": [],
      "source": [
        "# test_predict(SVMClassifier_OvR,'SVMClassifier_OvR')"
      ]
    },
    {
      "cell_type": "code",
      "execution_count": null,
      "metadata": {
        "id": "dN-LSaje-cLP"
      },
      "outputs": [],
      "source": [
        "#MultinomialNB\n",
        "# test_predict(MultinomialNB,'MultinomialNB')"
      ]
    },
    {
      "cell_type": "code",
      "execution_count": null,
      "metadata": {
        "id": "f8jg5_Iu-bpJ"
      },
      "outputs": [],
      "source": [
        "#GaussianNB\n",
        "# test_predict(GaussianNB,'GaussianNB')"
      ]
    },
    {
      "cell_type": "markdown",
      "metadata": {
        "id": "XevgTU0GMzge"
      },
      "source": [
        "### Fine Tuning Models and Validating it with Test Dataset\n",
        "We only use testing_df, for final testing and validation, only after training and finetuning the model with Train data set, which was split in ratio of 70:30 for Training and Testing, according to requirement, this is so as to avoid any form of Bias in model training which might arise, due to viewing or using provided Testing Dataset."
      ]
    },
    {
      "cell_type": "code",
      "execution_count": null,
      "metadata": {
        "id": "EElX6xtAN10G"
      },
      "outputs": [],
      "source": [
        "#TO_DO\n",
        "#Fine Tuning model"
      ]
    },
    {
      "cell_type": "markdown",
      "metadata": {
        "id": "xZSx1PPyGCCs"
      },
      "source": [
        "Fine Tuning Using RandomizedSearchCV for RandomForestClassifier"
      ]
    },
    {
      "cell_type": "code",
      "execution_count": 34,
      "metadata": {
        "colab": {
          "base_uri": "https://localhost:8080/"
        },
        "id": "Gfv_saWp5W0T",
        "outputId": "5d3612b7-f6b6-4886-86a5-ade8a0cd8ac4"
      },
      "outputs": [
        {
          "output_type": "stream",
          "name": "stdout",
          "text": [
            "Time Take :  121.49984045823415 minutes\n"
          ]
        }
      ],
      "source": [
        "param_grid = {\n",
        "    'n_estimators': [50, 100],\n",
        "    'max_depth': [None, 10, 20, 30],\n",
        "    'min_samples_split': [2, 5, 10]\n",
        "}\n",
        "start = time.time()\n",
        "# Create a base model\n",
        "rf = RandomForestClassifier()\n",
        "\n",
        "# Instantiate the randomized search model\n",
        "random_search_rf = RandomizedSearchCV(estimator=rf, param_distributions=param_grid, n_iter=100, cv=3, random_state=42,n_jobs=-1)\n",
        "\n",
        "# Fit the randomized search to the data\n",
        "random_search_rf.fit(x_train, y_train)\n",
        "print('Time Take :  %s minutes' % ((time.time() - start)/60))\n",
        "\n",
        "# Get the best parameters\n",
        "best_params_rf = random_search_rf.best_params_\n",
        "best_estimator_rf = random_search_rf.best_estimator_\n",
        "best_score_rf = random_search_rf.best_score_"
      ]
    },
    {
      "cell_type": "code",
      "source": [
        "print('best_params_rf :',best_params_rf)\n",
        "print('best_estimator_rf :',best_estimator_rf)\n",
        "print('best_score_rf :',best_score_rf)"
      ],
      "metadata": {
        "colab": {
          "base_uri": "https://localhost:8080/"
        },
        "id": "rS5dkFoas8RL",
        "outputId": "73b2a1bb-c90b-4307-bc20-ae042bf46d66"
      },
      "execution_count": 35,
      "outputs": [
        {
          "output_type": "stream",
          "name": "stdout",
          "text": [
            "best_params_rf : {'n_estimators': 100, 'min_samples_split': 2, 'max_depth': None}\n",
            "best_estimator_rf : RandomForestClassifier()\n",
            "best_score_rf : 0.9998541316482376\n"
          ]
        }
      ]
    },
    {
      "cell_type": "markdown",
      "metadata": {
        "id": "ZB1Tu-YWGpVX"
      },
      "source": [
        "Fine Tuning for DescisionTree"
      ]
    },
    {
      "cell_type": "code",
      "execution_count": 32,
      "metadata": {
        "colab": {
          "base_uri": "https://localhost:8080/"
        },
        "id": "6sOdMNkLGtTA",
        "outputId": "fe41ccd6-bba6-4a25-efdb-9b5f50ac5d8c"
      },
      "outputs": [
        {
          "output_type": "stream",
          "name": "stdout",
          "text": [
            "Fitting 5 folds for each of 24 candidates, totalling 120 fits\n",
            "Time Take :  16.21891754468282 minutes\n"
          ]
        }
      ],
      "source": [
        "# Define the parameter grid\n",
        "param_grid = {\n",
        "    'criterion': ['gini', 'entropy'],\n",
        "    'max_depth': [None, 10, 20, 30],\n",
        "    'min_samples_split': [2, 5, 10,15,20]\n",
        "}\n",
        "start_time = time.time()\n",
        "# Create a base model\n",
        "dt = DecisionTreeClassifier()\n",
        "\n",
        "# Instantiate the randomized search model\n",
        "random_search = RandomizedSearchCV(estimator=dt, param_distributions=param_grid, n_iter=100, cv=5,verbose=2, random_state=42,n_jobs=-1)\n",
        "#First Try for cv = 3, but less computation\n",
        "#later Try for cv = 5, but more computation\n",
        "# Fit the randomized search to the data\n",
        "random_search.fit(x_train, y_train)\n",
        "\n",
        "# Get the best parameters\n",
        "best_params_1 = random_search.best_params_\n",
        "best_estimator_1 = random_search.best_estimator_\n",
        "best_score_1 = random_search.best_score_\n",
        "\n",
        "print('Time Take :  %s minutes' % ((time.time() - start_time)/60))\n"
      ]
    },
    {
      "cell_type": "code",
      "source": [
        "print('best_params_1 :',best_params_1)\n",
        "print('best_estimator_1 :',best_estimator_1)\n",
        "print('best_score_1 :',best_score_1)"
      ],
      "metadata": {
        "colab": {
          "base_uri": "https://localhost:8080/"
        },
        "id": "nPsDgCRws2Kk",
        "outputId": "6414b0e2-6434-4e52-a387-17b49f59c96a"
      },
      "execution_count": 33,
      "outputs": [
        {
          "output_type": "stream",
          "name": "stdout",
          "text": [
            "best_params_1 : {'min_samples_split': 10, 'max_depth': None, 'criterion': 'entropy'}\n",
            "best_estimator_1 : DecisionTreeClassifier(criterion='entropy', min_samples_split=10)\n",
            "best_score_1 : 0.9998386411696641\n"
          ]
        }
      ]
    },
    {
      "cell_type": "code",
      "source": [
        "!nproc --all"
      ],
      "metadata": {
        "colab": {
          "base_uri": "https://localhost:8080/"
        },
        "id": "VhqMgc_Py7wu",
        "outputId": "f7ac375e-0c3b-4746-c8fa-bb29c916a7d9"
      },
      "execution_count": 31,
      "outputs": [
        {
          "output_type": "stream",
          "name": "stdout",
          "text": [
            "2\n"
          ]
        }
      ]
    },
    {
      "cell_type": "markdown",
      "metadata": {
        "id": "FOXxCJy6GXEp"
      },
      "source": [
        "Fine Tuning for KNN"
      ]
    },
    {
      "cell_type": "code",
      "execution_count": null,
      "metadata": {
        "id": "Jsz1afo0GZET"
      },
      "outputs": [],
      "source": [
        "# Define the parameter grid\n",
        "param_grid = {\n",
        "    'n_neighbors': list(range(1, 31)),\n",
        "    'weights': ['uniform', 'distance'],\n",
        "    'metric': ['euclidean', 'manhattan']\n",
        "}\n",
        "start_time = time.time()\n",
        "# Create a base model\n",
        "knn = KNeighborsClassifier()\n",
        "\n",
        "# Instantiate the randomized search model\n",
        "random_search = RandomizedSearchCV(estimator=knn, param_distributions=param_grid, n_iter=100, cv=3, random_state=42)\n",
        "\n",
        "# Fit the randomized search to the data\n",
        "random_search.fit(x_train, y_train)\n",
        "print('Time Take :  %s minutes' % ((time.time() - start_time)/60))\n",
        "# Get the best parameters\n",
        "best_params_2 = random_search.best_params_"
      ]
    },
    {
      "cell_type": "markdown",
      "metadata": {
        "id": "lWcKur1Y5ZTS"
      },
      "source": [
        "### Fine Tuning Using Variance Method:\n"
      ]
    },
    {
      "cell_type": "code",
      "execution_count": null,
      "metadata": {
        "id": "wlC9EToK5fuP"
      },
      "outputs": [],
      "source": [
        "#"
      ]
    },
    {
      "cell_type": "markdown",
      "source": [
        "## Testing the final model against Original Unused Test Dataset and Getting the score"
      ],
      "metadata": {
        "id": "3gtuLHya11Dc"
      }
    },
    {
      "cell_type": "markdown",
      "source": [
        "From Fine Tuning, Best model is DecisionTreeClassifier,with params of criterion='entropy' and min_samples_split=10, where score is high, and computation is relatively low (Time), when compared with RandomForest which has similar score but Too high Computation."
      ],
      "metadata": {
        "id": "J4V689LXe6M9"
      }
    },
    {
      "cell_type": "code",
      "source": [
        "x_train_final = training_df.drop(columns=label)\n",
        "y_train_final = training_df[label]"
      ],
      "metadata": {
        "id": "-s6oISIP1zx1"
      },
      "execution_count": 38,
      "outputs": []
    },
    {
      "cell_type": "code",
      "source": [
        "#for Reference:\n",
        "x_test_final = testing_df #Testing data without label used for predicting\n",
        "y_test_final = submission_df # Test Data Set labels"
      ],
      "metadata": {
        "id": "u3OM_ivxjqZr"
      },
      "execution_count": 53,
      "outputs": []
    },
    {
      "cell_type": "code",
      "source": [
        "final_model = DecisionTreeClassifier(criterion='entropy', min_samples_split=10)"
      ],
      "metadata": {
        "id": "SVOeonlnZsWb"
      },
      "execution_count": 39,
      "outputs": []
    },
    {
      "cell_type": "code",
      "source": [
        "start = time.time()\n",
        "final_model.fit(x_train_final, y_train_final)\n",
        "print('Time Take :  %s minutes' % ((time.time() - start)/60))"
      ],
      "metadata": {
        "colab": {
          "base_uri": "https://localhost:8080/"
        },
        "id": "Q-Z4mGWogWX-",
        "outputId": "437dc1ce-83f3-4b15-a81b-f396fdcd3bde"
      },
      "execution_count": 40,
      "outputs": [
        {
          "output_type": "stream",
          "name": "stdout",
          "text": [
            "Time Take :  0.2692578514417013 minutes\n"
          ]
        }
      ]
    },
    {
      "cell_type": "code",
      "source": [
        "print(\"Predicting\")\n",
        "start = time.time()\n",
        "predictions_sub = final_model.predict(testing_df)\n",
        "print('Time Take :  %s minutes' % ((time.time() - start)/60))\n",
        "print(\"DataFrame\")\n",
        "dt_f_submissions = pd.DataFrame({\n",
        "    'primary_close_flag': predictions_sub[:, 0],\n",
        "    'final_close_flag': predictions_sub[:, 1]\n",
        "})"
      ],
      "metadata": {
        "colab": {
          "base_uri": "https://localhost:8080/"
        },
        "id": "x7K0Wby7gfDf",
        "outputId": "e9a0ebfc-7f19-414a-8424-b76b8fec4daf"
      },
      "execution_count": 41,
      "outputs": [
        {
          "output_type": "stream",
          "name": "stdout",
          "text": [
            "Predicting\n",
            "Time Take :  0.01828855276107788 minutes\n",
            "DataFrame\n"
          ]
        }
      ]
    },
    {
      "cell_type": "markdown",
      "metadata": {
        "id": "hZ3dG-aYZwFl"
      },
      "source": [
        "### Creating Submit csv with Predicted Values."
      ]
    },
    {
      "cell_type": "code",
      "source": [
        "print(\"To_CSV\")\n",
        "dt_f_submissions.to_csv('/content/drive/MyDrive/Colab Notebooks/submitDT_fine.csv', index=False)\n",
        "print(\"completed\")"
      ],
      "metadata": {
        "colab": {
          "base_uri": "https://localhost:8080/"
        },
        "id": "ZNWuDpkNguLf",
        "outputId": "3db92771-e6c9-4354-977c-e7669adf74b6"
      },
      "execution_count": 42,
      "outputs": [
        {
          "output_type": "stream",
          "name": "stdout",
          "text": [
            "To_CSV\n",
            "completed\n"
          ]
        }
      ]
    },
    {
      "cell_type": "code",
      "execution_count": null,
      "metadata": {
        "id": "1qbTjyZCUyd-"
      },
      "outputs": [],
      "source": [
        "test_predict(classifier_name,'KNNClassifier')"
      ]
    },
    {
      "cell_type": "code",
      "execution_count": null,
      "metadata": {
        "colab": {
          "base_uri": "https://localhost:8080/"
        },
        "id": "mWXLIojAbkwz",
        "outputId": "bc4bbaa6-c307-4cb1-92ec-a7ce6dfd233d"
      },
      "outputs": [
        {
          "name": "stdout",
          "output_type": "stream",
          "text": [
            "Predicting\n",
            "DataFrame\n"
          ]
        }
      ],
      "source": [
        "print(\"Predicting\")\n",
        "predictions_sub = DT_model.predict(testing_df)\n",
        "print(\"DataFrame\")\n",
        "df_submissions = pd.DataFrame({\n",
        "    'primary_close_flag': predictions_sub[:, 0],\n",
        "    'final_close_flag': predictions_sub[:, 1]\n",
        "})\n"
      ]
    },
    {
      "cell_type": "code",
      "execution_count": null,
      "metadata": {
        "colab": {
          "base_uri": "https://localhost:8080/"
        },
        "id": "NBgZ7FeadH-i",
        "outputId": "cd8dafc3-ab5d-4c89-bb61-0591f6257226"
      },
      "outputs": [
        {
          "name": "stdout",
          "output_type": "stream",
          "text": [
            "To_CSV\n",
            "completed\n"
          ]
        }
      ],
      "source": [
        "print(\"To_CSV\")\n",
        "df_submissions.to_csv('/content/submitDT.csv', index=False)\n",
        "print(\"completed\")"
      ]
    }
  ],
  "metadata": {
    "accelerator": "TPU",
    "colab": {
      "collapsed_sections": [
        "_VcCKly0lDME",
        "_uc_8glPc_Se",
        "CHkEt3vBdJDM"
      ],
      "provenance": [],
      "mount_file_id": "1g4YWKMoQYQMy1qhIIKrt8doBhMbprlZc",
      "authorship_tag": "ABX9TyMo8RdA51LvLnBxClOpKEo+",
      "include_colab_link": true
    },
    "kernelspec": {
      "display_name": "Python 3",
      "name": "python3"
    },
    "language_info": {
      "name": "python"
    }
  },
  "nbformat": 4,
  "nbformat_minor": 0
}
