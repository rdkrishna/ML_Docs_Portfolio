{
 "cells": [
  {
   "cell_type": "markdown",
   "metadata": {
    "collapsed": true
   },
   "source": [
    "# Classifier Cat vs Non-Cat Images\n",
    "Using Artificial Neural Network (ANN) and sigmoid function."
   ]
  },
  {
   "cell_type": "markdown",
   "metadata": {},
   "source": [
    "## Importing Libraries and loading DataSet"
   ]
  },
  {
   "cell_type": "code",
   "execution_count": 1,
   "metadata": {},
   "outputs": [],
   "source": [
    "import numpy as np\n",
    "import matplotlib.pyplot as plt\n",
    "import h5py"
   ]
  },
  {
   "cell_type": "code",
   "execution_count": 2,
   "metadata": {},
   "outputs": [
    {
     "name": "stdout",
     "output_type": "stream",
     "text": [
      "File format of train_dataset: <HDF5 file \"train_catvnoncat.h5\" (mode r)>\n",
      "File format of test_dataset: <HDF5 file \"test_catvnoncat.h5\" (mode r)>\n"
     ]
    }
   ],
   "source": [
    "train_dataset = h5py.File('/cxldata/datasets/project/cat-non-cat/train_catvnoncat.h5', \"r\")\n",
    "\n",
    "test_dataset = h5py.File('/cxldata/datasets/project/cat-non-cat/test_catvnoncat.h5', \"r\")\n",
    "\n",
    "print(\"File format of train_dataset:\",train_dataset)\n",
    "print(\"File format of test_dataset:\",test_dataset)"
   ]
  },
  {
   "cell_type": "markdown",
   "metadata": {},
   "source": [
    "Data in HDF5 is stored in hierarchial format. We access data and store it as numpy array"
   ]
  },
  {
   "cell_type": "code",
   "execution_count": 3,
   "metadata": {},
   "outputs": [],
   "source": [
    "import os\n",
    "os.environ[\"HDF5_USE_FILE_LOCKING\"] = \"FALSE\"\n",
    "# we are adding os env variable HDF5_USE_FILE_LOCKING \n",
    "# and setting it as false, to disable file locking, to solve permission issues"
   ]
  },
  {
   "cell_type": "code",
   "execution_count": 4,
   "metadata": {},
   "outputs": [
    {
     "data": {
      "text/plain": [
       "'FALSE'"
      ]
     },
     "execution_count": 4,
     "metadata": {},
     "output_type": "execute_result"
    }
   ],
   "source": [
    "os.environ[\"HDF5_USE_FILE_LOCKING\"]"
   ]
  },
  {
   "cell_type": "code",
   "execution_count": 5,
   "metadata": {},
   "outputs": [],
   "source": [
    "train_set_x_orig = np.array(train_dataset[\"train_set_x\"][:]) # train set features"
   ]
  },
  {
   "cell_type": "code",
   "execution_count": 6,
   "metadata": {},
   "outputs": [],
   "source": [
    "train_set_y_orig = np.array(train_dataset[\"train_set_y\"][:]) # train set labels"
   ]
  },
  {
   "cell_type": "code",
   "execution_count": 7,
   "metadata": {},
   "outputs": [],
   "source": [
    "test_set_x_orig = np.array(test_dataset[\"test_set_x\"][:]) # test set features\n",
    "test_set_y_orig = np.array(test_dataset[\"test_set_y\"][:]) # test set labels"
   ]
  },
  {
   "cell_type": "code",
   "execution_count": 8,
   "metadata": {},
   "outputs": [
    {
     "name": "stdout",
     "output_type": "stream",
     "text": [
      "Validation data shape:  (25, 64, 64, 3)\n"
     ]
    }
   ],
   "source": [
    "validation_x = test_set_x_orig[:25]\n",
    "validation_y = test_set_y_orig[:25]\n",
    "print(\"Validation data shape: \",validation_x.shape)"
   ]
  },
  {
   "cell_type": "code",
   "execution_count": 9,
   "metadata": {},
   "outputs": [
    {
     "name": "stdout",
     "output_type": "stream",
     "text": [
      "Validation data shape:  (25, 64, 64, 3)\n"
     ]
    }
   ],
   "source": [
    "test_set_x = test_set_x_orig[:25]\n",
    "test_set_y = test_set_y_orig[:25]\n",
    "print(\"Validation data shape: \",test_set_x.shape)"
   ]
  },
  {
   "cell_type": "raw",
   "metadata": {},
   "source": [
    "Details about total number of samples and the shape of the train, validation, and test datasets"
   ]
  },
  {
   "cell_type": "code",
   "execution_count": 10,
   "metadata": {},
   "outputs": [
    {
     "name": "stdout",
     "output_type": "stream",
     "text": [
      "Number of training examples: m_train = 209\n",
      "Number of validation examples: m_test = 25\n",
      "Number of testing examples: m_test = 25\n",
      "Height/Width of each image: num_px = 64\n",
      "Each image is of size: (64, 64, 3)\n"
     ]
    }
   ],
   "source": [
    "m_train = np.squeeze(train_set_y_orig.shape) \n",
    "m_val = np.squeeze(validation_y.shape)\n",
    "m_test = np.squeeze(test_set_y.shape)\n",
    "num_px = train_set_x_orig.shape[1]\n",
    "\n",
    "print (\"Number of training examples: m_train = \" + str(m_train))\n",
    "print (\"Number of validation examples: m_test = \" + str(m_val))\n",
    "print (\"Number of testing examples: m_test = \" + str(m_test))\n",
    "print (\"Height/Width of each image: num_px = \" + str(num_px))\n",
    "print (\"Each image is of size: (\" + str(num_px) + \", \" + str(num_px) + \", 3)\")"
   ]
  },
  {
   "cell_type": "markdown",
   "metadata": {},
   "source": [
    "## Exploratory Analysis"
   ]
  },
  {
   "cell_type": "markdown",
   "metadata": {},
   "source": [
    "**Visualising the data**"
   ]
  },
  {
   "cell_type": "code",
   "execution_count": 11,
   "metadata": {},
   "outputs": [
    {
     "name": "stdout",
     "output_type": "stream",
     "text": [
      "Classes are:  [b'non-cat' b'cat']\n",
      "Groundtruth stored as:  1\n",
      "cat\n"
     ]
    },
    {
     "data": {
      "text/plain": [
       "<matplotlib.image.AxesImage at 0x7f182f7db550>"
      ]
     },
     "execution_count": 11,
     "metadata": {},
     "output_type": "execute_result"
    },
    {
     "data": {
      "image/png": "[encoded data removed]",
      "text/plain": [
       "<Figure size 432x288 with 1 Axes>"
      ]
     },
     "metadata": {
      "needs_background": "light"
     },
     "output_type": "display_data"
    }
   ],
   "source": [
    "classes = np.array(test_dataset[\"list_classes\"][:])\n",
    "\n",
    "print(\"Classes are: \",classes)\n",
    "print(\"Groundtruth stored as: \",train_set_y_orig[2])\n",
    "print(classes[train_set_y_orig[2]].decode('utf-8'))\n",
    "\n",
    "plt.imshow(train_set_x_orig[2])"
   ]
  },
  {
   "cell_type": "markdown",
   "metadata": {},
   "source": [
    "**Shape of Data**"
   ]
  },
  {
   "cell_type": "code",
   "execution_count": 12,
   "metadata": {},
   "outputs": [
    {
     "name": "stdout",
     "output_type": "stream",
     "text": [
      "train_set_x shape:  (209, 64, 64, 3)\n",
      "train_set_y shape:  (209,)\n"
     ]
    }
   ],
   "source": [
    "print(\"train_set_x shape: \", train_set_x_orig.shape)\n",
    "print(\"train_set_y shape: \", train_set_y_orig.shape)"
   ]
  },
  {
   "cell_type": "code",
   "execution_count": 13,
   "metadata": {},
   "outputs": [
    {
     "name": "stdout",
     "output_type": "stream",
     "text": [
      "Validation data size (x):  (25, 64, 64, 3)\n",
      "Validation data size (y):  (25,)\n"
     ]
    }
   ],
   "source": [
    "print(\"Validation data size (x): \", validation_x.shape)\n",
    "print(\"Validation data size (y): \", validation_y.shape)"
   ]
  },
  {
   "cell_type": "code",
   "execution_count": 14,
   "metadata": {},
   "outputs": [
    {
     "name": "stdout",
     "output_type": "stream",
     "text": [
      "test_set_x shape:  (25, 64, 64, 3)\n",
      "test_set_y shape:  (25,)\n"
     ]
    }
   ],
   "source": [
    "print(\"test_set_x shape: \", test_set_x.shape)\n",
    "print(\"test_set_y shape: \", test_set_y.shape)"
   ]
  },
  {
   "cell_type": "markdown",
   "metadata": {},
   "source": [
    "## Reshaping the data"
   ]
  },
  {
   "cell_type": "raw",
   "metadata": {},
   "source": [
    "Reshaping the images to flat vector of size \n",
    "(height x Width x 3 x 1)\n",
    "And then the matrix is transposed"
   ]
  },
  {
   "cell_type": "code",
   "execution_count": 15,
   "metadata": {},
   "outputs": [],
   "source": [
    "train_set_x_flatten = train_set_x_orig.reshape(train_set_x_orig.shape[0], -1).T\n",
    "#in reshape function, -1 indicates when dimension of axis is not explicitly mentioned\n",
    "validation_x_flatten = validation_x.reshape(validation_x.shape[0], -1).T\n",
    "test_set_x_flatten = test_set_x.reshape(test_set_x.shape[0], -1).T"
   ]
  },
  {
   "cell_type": "code",
   "execution_count": 16,
   "metadata": {},
   "outputs": [
    {
     "name": "stdout",
     "output_type": "stream",
     "text": [
      "train_set_x_flatten shape:  (12288, 209)\n",
      "train_set_y shape:  (209,)\n",
      "validation_x_flatten shape:  (12288, 25)\n",
      "validation_y shape:  (25,)\n",
      "test_set_x_flatten shape:  (12288, 25)\n",
      "test_set_y shape:  (25,)\n"
     ]
    }
   ],
   "source": [
    "print (\"train_set_x_flatten shape: \", train_set_x_flatten.shape)\n",
    "print (\"train_set_y shape: \", train_set_y_orig.shape)\n",
    "\n",
    "print (\"validation_x_flatten shape: \", validation_x_flatten.shape)\n",
    "print (\"validation_y shape: \", validation_y.shape)\n",
    "\n",
    "print (\"test_set_x_flatten shape: \", test_set_x_flatten.shape)\n",
    "print (\"test_set_y shape: \", test_set_y.shape)"
   ]
  },
  {
   "cell_type": "markdown",
   "metadata": {},
   "source": [
    "## Feature Scaling"
   ]
  },
  {
   "cell_type": "code",
   "execution_count": 17,
   "metadata": {},
   "outputs": [
    {
     "name": "stdout",
     "output_type": "stream",
     "text": [
      "Original Min value in train data:  0\n",
      "Original Max value in train Data:  255\n"
     ]
    }
   ],
   "source": [
    "print(\"Original Min value in train data: \",train_set_x_flatten.reshape(1,-1).min())\n",
    "print(\"Original Max value in train Data: \",train_set_x_flatten.reshape(1,-1).max())"
   ]
  },
  {
   "cell_type": "code",
   "execution_count": 18,
   "metadata": {},
   "outputs": [],
   "source": [
    "train_set_x = train_set_x_flatten / 255.\n",
    "validation_set_x = validation_x_flatten / 255.\n",
    "test_set_x = test_set_x_flatten / 255."
   ]
  },
  {
   "cell_type": "code",
   "execution_count": 19,
   "metadata": {},
   "outputs": [
    {
     "name": "stdout",
     "output_type": "stream",
     "text": [
      "Standardized Min value:  0.0\n",
      "Standardized Max value:  1.0\n"
     ]
    }
   ],
   "source": [
    "print(\"Standardized Min value: \",train_set_x.reshape(1,-1).min())\n",
    "print(\"Standardized Max value: \",train_set_x.reshape(1,-1).max())"
   ]
  },
  {
   "cell_type": "markdown",
   "metadata": {},
   "source": [
    "## Defining Utility Functions"
   ]
  },
  {
   "cell_type": "markdown",
   "metadata": {},
   "source": [
    "**Functions to be defined:**\n",
    "1. **Sigmoid Function** - calculates the sigmoid activation function\n",
    "2. **Initialize Weights** - initializes the weights and bias values to zeros, upon which we update those values through optimization\n",
    "3. **Forward propagation** - returns activations and cost\n",
    "4. **Backward propagation** - returns the gradients(derivatives) of weights and bias\n",
    "5. **Propagate** - implements the forward and backward propagation by calling the corresponding functions\n",
    "6. **Predict** - predicts the labels\n",
    "7. **Get Accuracies** - calculates the accuracies of predictions of the model\n",
    "8. **Optimize** - gets the optimal weights and biases\n",
    "9. **Model** - the main function to train the algorithm and get the final model for classification"
   ]
  },
  {
   "cell_type": "raw",
   "metadata": {},
   "source": [
    "sigmoid function : \n",
    "y = 1/(1+e-(wx+b))"
   ]
  },
  {
   "cell_type": "code",
   "execution_count": 20,
   "metadata": {},
   "outputs": [],
   "source": [
    "def sigmoid(z):\n",
    "    s = 1/(1 + np.exp(-z))\n",
    "    return s"
   ]
  },
  {
   "cell_type": "raw",
   "metadata": {},
   "source": [
    "Value of z = 2000000 linearly spaced values between -10 and 10 using np.linspace()\n",
    "Equivalent to Creating line equation. "
   ]
  },
  {
   "cell_type": "code",
   "execution_count": 21,
   "metadata": {},
   "outputs": [],
   "source": [
    "z = np.linspace(-10,10,2000000)"
   ]
  },
  {
   "cell_type": "code",
   "execution_count": 22,
   "metadata": {},
   "outputs": [],
   "source": [
    "sigmoid_z = sigmoid(z)"
   ]
  },
  {
   "cell_type": "code",
   "execution_count": 23,
   "metadata": {},
   "outputs": [
    {
     "data": {
      "image/png": "[encoded data removed]",
      "text/plain": [
       "<Figure size 432x288 with 1 Axes>"
      ]
     },
     "metadata": {
      "needs_background": "light"
     },
     "output_type": "display_data"
    }
   ],
   "source": [
    "plt.plot(z, sigmoid_z) \n",
    "plt.xlabel(\"z\") \n",
    "plt.ylabel(\"Sigmoid(z)\") \n",
    "plt.show()"
   ]
  },
  {
   "cell_type": "markdown",
   "metadata": {},
   "source": [
    "**Initialising Weight**"
   ]
  },
  {
   "cell_type": "code",
   "execution_count": 24,
   "metadata": {},
   "outputs": [],
   "source": [
    "def initialize_weights(dim):\n",
    "    np.random.seed(0)\n",
    "    w = np.random.rand(dim, 1)\n",
    "    b = 0    \n",
    "    return w, b"
   ]
  },
  {
   "cell_type": "code",
   "execution_count": 25,
   "metadata": {},
   "outputs": [
    {
     "name": "stdout",
     "output_type": "stream",
     "text": [
      "Weights : [[0.5488135 ]\n",
      " [0.71518937]]\n",
      "Biases : 0\n"
     ]
    }
   ],
   "source": [
    "dim = 2\n",
    "w,b = initialize_weights(dim)\n",
    "\n",
    "print(\"Weights :\",w)\n",
    "print(\"Biases :\",b)"
   ]
  },
  {
   "cell_type": "markdown",
   "metadata": {},
   "source": [
    "**Forward Propogation**"
   ]
  },
  {
   "cell_type": "raw",
   "metadata": {},
   "source": [
    "Steps: \n",
    "1. Calculate dot product of X and w.T and then add b.\n",
    "2. Pass the result to sigmoid function\n",
    "3. compute cost\n",
    "\n",
    "Steps for computing the cost,\n",
    "1. Calculate the product of Y and np.log(A)\n",
    "2. Calculate the product of (1-Y) and np.log(1-A)\n",
    "3. Add the results of the above 2 steps.\n",
    "4. Divide the negative of the result obtained in the third step with m, the total samples of the trainset."
   ]
  },
  {
   "cell_type": "code",
   "execution_count": 26,
   "metadata": {},
   "outputs": [],
   "source": [
    "# x = [1,2,3]"
   ]
  },
  {
   "cell_type": "code",
   "execution_count": 27,
   "metadata": {},
   "outputs": [],
   "source": [
    "# x_log = np.log(x)"
   ]
  },
  {
   "cell_type": "code",
   "execution_count": 28,
   "metadata": {},
   "outputs": [],
   "source": [
    "# a = np.array([[1,2],[3,4]]) \n",
    "# b = np.array([[10,20],[30,40]]) \n",
    "\n",
    "# c = np.dot(a,b)\n",
    "# print(c)"
   ]
  },
  {
   "cell_type": "code",
   "execution_count": 29,
   "metadata": {},
   "outputs": [],
   "source": [
    "# ones_array = np.ones(shape=(4,4))"
   ]
  },
  {
   "cell_type": "code",
   "execution_count": 30,
   "metadata": {},
   "outputs": [],
   "source": [
    "# sum_of_ones_array = np.sum(ones_array)"
   ]
  },
  {
   "cell_type": "code",
   "execution_count": 31,
   "metadata": {},
   "outputs": [],
   "source": [
    "def forward_prop(w, b, X, Y):\n",
    "\n",
    "    # calculate activations\n",
    "    z = np.dot(w.T, X) + b\n",
    "    A = sigmoid(z)\n",
    "\n",
    "    # calculate cost\n",
    "    m = X.shape[1]\n",
    "    cost = (-1/m) * np.sum(Y * np.log(A) + (1-Y) * (np.log(1-A)))\n",
    "    cost = np.squeeze(cost)\n",
    "\n",
    "    return A, cost"
   ]
  },
  {
   "cell_type": "markdown",
   "metadata": {},
   "source": [
    "**Back Propogation**"
   ]
  },
  {
   "cell_type": "raw",
   "metadata": {},
   "source": [
    "In Back propogation, we calculate dericative Weights and bias\n",
    "\n",
    "Steps for Computing gradient of weight:\n",
    "calculate dot product of X and (A-Y).T\n",
    "divide by m (m is total number of samples in dataset)\n",
    "\n",
    "Steps for Computing gradient of Bias:\n",
    "Calculate np.sum(A-Y)\n",
    "Divide by m where m is total number of samples in dataset"
   ]
  },
  {
   "cell_type": "code",
   "execution_count": 32,
   "metadata": {},
   "outputs": [],
   "source": [
    "def back_prop(X, A, Y):\n",
    "\n",
    "    # calculate gradients for w,b\n",
    "    m = X.shape[1]\n",
    "    dw = (1/m) * np.dot(X, (A-Y).T)\n",
    "    db = (1/m) * np.sum(A-Y)\n",
    "\n",
    "    grads = {'dw': dw, 'db': db}\n",
    "\n",
    "    return grads"
   ]
  },
  {
   "cell_type": "markdown",
   "metadata": {},
   "source": [
    "**Propogate Function**"
   ]
  },
  {
   "cell_type": "code",
   "execution_count": 33,
   "metadata": {},
   "outputs": [],
   "source": [
    "def propagate(w, b, X, Y):\n",
    "\n",
    "    #Forward propagation\n",
    "    A, cost = forward_prop(w, b, X, Y)\n",
    "\n",
    "    #Backward propagation\n",
    "    grads = back_prop(X, A, Y)\n",
    "\n",
    "    return grads, cost"
   ]
  },
  {
   "cell_type": "code",
   "execution_count": 34,
   "metadata": {},
   "outputs": [],
   "source": [
    "# testing with Values:\n",
    "# w, b, X, Y = np.array([[1], [2]]), 2, np.array([[1,2], [3,4]]), np.array([[1, 0]])\n",
    "# grads, cost = propagate(w, b, X, Y)"
   ]
  },
  {
   "cell_type": "markdown",
   "metadata": {},
   "source": [
    "**Prediction Function**"
   ]
  },
  {
   "cell_type": "code",
   "execution_count": 35,
   "metadata": {},
   "outputs": [],
   "source": [
    "def predict(w, b, X):\n",
    "    m = X.shape[1]\n",
    "    Y_prediction = np.zeros((1, m))\n",
    "    w = w.reshape(X.shape[0], 1)\n",
    "\n",
    "    #Compute probability vector\n",
    "    A = sigmoid(np.dot(w.T, X) + b)\n",
    "\n",
    "    for i in range(A.shape[1]):\n",
    "        Y_prediction[0, i] = 1 if A[0, i] > 0.5 else 0\n",
    "\n",
    "    return Y_prediction"
   ]
  },
  {
   "cell_type": "markdown",
   "metadata": {},
   "source": [
    "**Get Accuracies**"
   ]
  },
  {
   "cell_type": "code",
   "execution_count": 36,
   "metadata": {},
   "outputs": [],
   "source": [
    "# y_actual = np.array([1,1,1,0,1])\n",
    "# print(\"y_actual :\", y_actual )\n",
    "\n",
    "# y_predicted = np.array([1,0,0,0,1])\n",
    "# print(\"y_predicted :\", y_predicted )"
   ]
  },
  {
   "cell_type": "code",
   "execution_count": 37,
   "metadata": {},
   "outputs": [],
   "source": [
    "# c = np.abs(y_actual - y_predicted)"
   ]
  },
  {
   "cell_type": "code",
   "execution_count": 38,
   "metadata": {},
   "outputs": [],
   "source": [
    "# c_mean = np.mean(c)"
   ]
  },
  {
   "cell_type": "code",
   "execution_count": 39,
   "metadata": {},
   "outputs": [],
   "source": [
    "# accuracy = 100 - (c_mean * 100)"
   ]
  },
  {
   "cell_type": "code",
   "execution_count": 40,
   "metadata": {},
   "outputs": [],
   "source": [
    "def get_accuracies(Y_predicted, Y_actual):\n",
    "    abs_diff = np.abs(Y_predicted - Y_actual)\n",
    "    accuracy = 100 - np.mean(abs_diff) * 100\n",
    "    return accuracy"
   ]
  },
  {
   "cell_type": "markdown",
   "metadata": {},
   "source": [
    "**Optimize Function**"
   ]
  },
  {
   "cell_type": "code",
   "execution_count": 41,
   "metadata": {},
   "outputs": [],
   "source": [
    "def optimize(w, b, X, Y, X_val, Y_val, num_iterations, learning_rate):\n",
    "    prev_train_acc=0\n",
    "    prev_val_acc=0\n",
    "    costs=[]\n",
    "    epoch=0\n",
    "    final_w = w\n",
    "    final_b = b\n",
    "\n",
    "    for i in range(num_iterations):\n",
    "\n",
    "        # Call Propagate function to get Cost and gradients\n",
    "        grads, cost = propagate(w, b, X, Y)\n",
    "        costs.append(cost)\n",
    "\n",
    "        # Get derivatives\n",
    "        dw = grads['dw']\n",
    "        db = grads['db']\n",
    "\n",
    "        # Update rule\n",
    "        w = w - learning_rate * dw\n",
    "        b = b - learning_rate * db\n",
    "\n",
    "        # Predict labels for train and validation sets        \n",
    "        Y_prediction_train = predict(w, b, X)\n",
    "        Y_prediction_val =  predict(w, b, X_val)\n",
    "\n",
    "        # Get accuracies for the train and validation predictions\n",
    "        train_acc =  get_accuracies(Y_prediction_train , Y)\n",
    "        val_acc =  get_accuracies(Y_prediction_val, Y_val)\n",
    "\n",
    "        if val_acc > prev_val_acc and train_acc>=val_acc:\n",
    "            print(\"*****************************\")\n",
    "            print(\"Epoch - {} - train accuracy: {} %\".format(i,train_acc))\n",
    "            print(\"Epoch - {} - val accuracy: {} %\".format(i,val_acc))\n",
    "            print(\"!!!!!!!!!!!!!!!!!!!!!!!!!!!!!!!\")\n",
    "            prev_train_acc = train_acc\n",
    "            prev_val_acc = val_acc\n",
    "            epoch = i\n",
    "            final_w = w\n",
    "            final_b = b\n",
    "\n",
    "    params = {'w': w, 'b': b}\n",
    "    grads = {'dw': dw, 'db': db}\n",
    "\n",
    "    optimal_values = {\n",
    "        'costs': costs,\n",
    "        'final w':final_w,\n",
    "        'final b':final_b,\n",
    "        'epoch':epoch,\n",
    "        'Train accuracy':prev_train_acc,\n",
    "        'Validation accuracy': prev_val_acc,\n",
    "        'Y_prediction_val': Y_prediction_val,\n",
    "        'Y_prediction_train': Y_prediction_train,\n",
    "        'params':params,\n",
    "        'grads':grads,\n",
    "    }\n",
    "\n",
    "    return optimal_values"
   ]
  },
  {
   "cell_type": "markdown",
   "metadata": {},
   "source": [
    "**Model**\n",
    "\n",
    "Using all other helper function to train the algorithm"
   ]
  },
  {
   "cell_type": "code",
   "execution_count": 42,
   "metadata": {},
   "outputs": [],
   "source": [
    "def  model(X_train, Y_train, X_val, Y_val, num_iterations=2000, learning_rate=[0.5]):\n",
    "    prev_train_acc=0\n",
    "    prev_val_acc=0\n",
    "\n",
    "    #  Initialize weights and bias\n",
    "    w, b = initialize_weights(X_train.shape[0])\n",
    "    \n",
    "    best_values = {\n",
    "        'final w':w,\n",
    "        'final b':b,\n",
    "        'Train accuracy':prev_train_acc,\n",
    "        'Validation accuracy': prev_val_acc,\n",
    "     }\n",
    "    \n",
    "    for lr in learning_rate:\n",
    "        print((\"-\"*30 + \"learning_rate:{}\"+\"-\"*30).format(lr))\n",
    "    \n",
    "        #Initialize weights and bias\n",
    "        w, b = initialize_weights(X_train.shape[0])\n",
    "        \n",
    "        #Optimization\n",
    "        lr_optimal_values = optimize(w, b, X_train, Y_train\n",
    "                                     , X_val, Y_val, num_iterations, lr)\n",
    "        \n",
    "        if lr_optimal_values['Validation accuracy']>prev_val_acc:\n",
    "            prev_val_acc = lr_optimal_values['Validation accuracy']\n",
    "            prev_train_acc = lr_optimal_values['Train accuracy']\n",
    "            final_lr = lr\n",
    "            final_w = lr_optimal_values['final w']\n",
    "            final_b = lr_optimal_values['final b']\n",
    "            final_epoch = lr_optimal_values['epoch']\n",
    "            final_Y_prediction_val = lr_optimal_values['Y_prediction_val']\n",
    "            final_Y_prediction_train = lr_optimal_values['Y_prediction_train']\n",
    "    \n",
    "    best_values['Train accuracy'] = prev_train_acc\n",
    "    best_values['Validation accuracy'] = prev_val_acc\n",
    "    best_values['final_lr'] = final_lr\n",
    "    best_values['final w'] = final_w\n",
    "    best_values['final b'] = final_b\n",
    "    best_values['epoch'] = final_epoch\n",
    "    best_values['Y_prediction_val'] = final_Y_prediction_val\n",
    "    best_values['Y_prediction_train'] = final_Y_prediction_train\n",
    "    \n",
    "    return best_values"
   ]
  },
  {
   "cell_type": "markdown",
   "metadata": {},
   "source": [
    "## Training the Algorithm"
   ]
  },
  {
   "cell_type": "code",
   "execution_count": 43,
   "metadata": {},
   "outputs": [
    {
     "name": "stdout",
     "output_type": "stream",
     "text": [
      "------------------------------learning_rate:0.1------------------------------\n",
      "*****************************\n",
      "Epoch - 18 - train accuracy: 62.67942583732057 %\n",
      "Epoch - 18 - val accuracy: 36.0 %\n",
      "!!!!!!!!!!!!!!!!!!!!!!!!!!!!!!!\n",
      "*****************************\n",
      "Epoch - 20 - train accuracy: 62.20095693779905 %\n",
      "Epoch - 20 - val accuracy: 48.0 %\n",
      "!!!!!!!!!!!!!!!!!!!!!!!!!!!!!!!\n",
      "*****************************\n",
      "Epoch - 22 - train accuracy: 62.20095693779905 %\n",
      "Epoch - 22 - val accuracy: 60.0 %\n",
      "!!!!!!!!!!!!!!!!!!!!!!!!!!!!!!!\n",
      "*****************************\n",
      "Epoch - 63 - train accuracy: 74.16267942583733 %\n",
      "Epoch - 63 - val accuracy: 72.0 %\n",
      "!!!!!!!!!!!!!!!!!!!!!!!!!!!!!!!\n",
      "*****************************\n",
      "Epoch - 68 - train accuracy: 76.55502392344498 %\n",
      "Epoch - 68 - val accuracy: 76.0 %\n",
      "!!!!!!!!!!!!!!!!!!!!!!!!!!!!!!!\n"
     ]
    },
    {
     "name": "stderr",
     "output_type": "stream",
     "text": [
      "/usr/local/anaconda/envs/tensorflow2/lib/python3.6/site-packages/ipykernel_launcher.py:9: RuntimeWarning: divide by zero encountered in log\n",
      "  if __name__ == '__main__':\n",
      "/usr/local/anaconda/envs/tensorflow2/lib/python3.6/site-packages/ipykernel_launcher.py:9: RuntimeWarning: invalid value encountered in multiply\n",
      "  if __name__ == '__main__':\n"
     ]
    },
    {
     "name": "stdout",
     "output_type": "stream",
     "text": [
      "*****************************\n",
      "Epoch - 156 - train accuracy: 87.5598086124402 %\n",
      "Epoch - 156 - val accuracy: 80.0 %\n",
      "!!!!!!!!!!!!!!!!!!!!!!!!!!!!!!!\n",
      "*****************************\n",
      "Epoch - 193 - train accuracy: 84.68899521531101 %\n",
      "Epoch - 193 - val accuracy: 84.0 %\n",
      "!!!!!!!!!!!!!!!!!!!!!!!!!!!!!!!\n",
      "------------------------------learning_rate:0.0001------------------------------\n",
      "------------------------------learning_rate:0.001------------------------------\n",
      "------------------------------learning_rate:0.005------------------------------\n",
      "*****************************\n",
      "Epoch - 839 - train accuracy: 72.2488038277512 %\n",
      "Epoch - 839 - val accuracy: 72.0 %\n",
      "!!!!!!!!!!!!!!!!!!!!!!!!!!!!!!!\n",
      "*****************************\n",
      "Epoch - 1356 - train accuracy: 81.33971291866028 %\n",
      "Epoch - 1356 - val accuracy: 80.0 %\n",
      "!!!!!!!!!!!!!!!!!!!!!!!!!!!!!!!\n"
     ]
    }
   ],
   "source": [
    "best_values = model(train_set_x, train_set_y_orig, validation_set_x, validation_y, num_iterations=2000, learning_rate=[0.1,0.0001,0.001,0.005])"
   ]
  },
  {
   "cell_type": "code",
   "execution_count": 44,
   "metadata": {},
   "outputs": [
    {
     "data": {
      "text/plain": [
       "{'final w': array([[ 0.15698121],\n",
       "        [ 0.13429183],\n",
       "        [ 0.08466067],\n",
       "        ...,\n",
       "        [-0.25541379],\n",
       "        [-0.03047651],\n",
       "        [ 0.40729622]]),\n",
       " 'final b': -1.0373622618359999,\n",
       " 'Train accuracy': 84.68899521531101,\n",
       " 'Validation accuracy': 84.0,\n",
       " 'final_lr': 0.1,\n",
       " 'epoch': 193,\n",
       " 'Y_prediction_val': array([[1., 1., 1., 1., 1., 1., 0., 1., 1., 1., 0., 1., 1., 1., 0., 1.,\n",
       "         0., 1., 0., 0., 1., 0., 0., 1., 0.]]),\n",
       " 'Y_prediction_train': array([[0., 0., 1., 0., 0., 0., 0., 1., 0., 0., 0., 1., 0., 1., 1., 0.,\n",
       "         0., 0., 0., 1., 0., 0., 0., 0., 1., 1., 0., 1., 0., 1., 0., 0.,\n",
       "         0., 0., 0., 0., 0., 0., 1., 0., 0., 1., 1., 0., 0., 0., 0., 1.,\n",
       "         0., 0., 1., 0., 0., 0., 1., 0., 1., 1., 0., 1., 1., 1., 0., 0.,\n",
       "         0., 0., 0., 0., 1., 0., 0., 1., 0., 0., 0., 0., 0., 0., 0., 0.,\n",
       "         0., 0., 0., 1., 1., 0., 0., 0., 1., 0., 0., 0., 1., 1., 1., 0.,\n",
       "         0., 1., 0., 0., 0., 0., 1., 0., 1., 0., 1., 1., 1., 1., 1., 1.,\n",
       "         0., 0., 0., 0., 0., 1., 0., 0., 0., 1., 0., 0., 1., 0., 1., 0.,\n",
       "         1., 1., 0., 0., 0., 1., 1., 1., 1., 1., 0., 0., 0., 0., 1., 0.,\n",
       "         1., 1., 1., 0., 1., 1., 0., 0., 0., 1., 0., 0., 1., 0., 0., 0.,\n",
       "         0., 0., 1., 0., 1., 0., 1., 0., 0., 1., 1., 1., 0., 0., 1., 1.,\n",
       "         0., 1., 0., 1., 0., 0., 0., 0., 0., 1., 0., 0., 1., 0., 0., 0.,\n",
       "         1., 0., 0., 0., 0., 1., 0., 0., 1., 0., 0., 0., 0., 0., 0., 0.,\n",
       "         0.]])}"
      ]
     },
     "execution_count": 44,
     "metadata": {},
     "output_type": "execute_result"
    }
   ],
   "source": [
    "best_values"
   ]
  },
  {
   "cell_type": "markdown",
   "metadata": {},
   "source": [
    "## Evaluating the Algorithm"
   ]
  },
  {
   "cell_type": "code",
   "execution_count": 45,
   "metadata": {},
   "outputs": [],
   "source": [
    "Y_prediction_test = predict(best_values['final w']\n",
    "                            , best_values['final b']\n",
    "                            , test_set_x)"
   ]
  },
  {
   "cell_type": "code",
   "execution_count": 46,
   "metadata": {},
   "outputs": [
    {
     "name": "stdout",
     "output_type": "stream",
     "text": [
      "Test accuracy is:  84.0\n"
     ]
    }
   ],
   "source": [
    "test_acc = get_accuracies(test_set_y, Y_prediction_test)\n",
    "print(\"Test accuracy is: \",test_acc)"
   ]
  },
  {
   "cell_type": "code",
   "execution_count": 47,
   "metadata": {},
   "outputs": [
    {
     "name": "stdout",
     "output_type": "stream",
     "text": [
      "Final best model:\n",
      "For Learning rate: 0.1 , Epoch -  193\n",
      "Train accuracy:  84.68899521531101\n",
      "Validation accuracy:  84.0\n",
      "Test accuracy is:  84.0\n"
     ]
    }
   ],
   "source": [
    "print(\"Final best model:\")\n",
    "print(\"For Learning rate:\" ,best_values['final_lr'], \", Epoch - \",best_values['epoch'])\n",
    "print(\"Train accuracy: \", best_values['Train accuracy'])\n",
    "print(\"Validation accuracy: \",best_values['Validation accuracy'])\n",
    "print(\"Test accuracy is: \",test_acc)"
   ]
  },
  {
   "cell_type": "code",
   "execution_count": 51,
   "metadata": {},
   "outputs": [],
   "source": [
    "# Evaluating correclty classified images and misclassified images"
   ]
  },
  {
   "cell_type": "code",
   "execution_count": 52,
   "metadata": {},
   "outputs": [
    {
     "name": "stdout",
     "output_type": "stream",
     "text": [
      "Predicted as: cat\n"
     ]
    },
    {
     "data": {
      "text/plain": [
       "1.0"
      ]
     },
     "execution_count": 52,
     "metadata": {},
     "output_type": "execute_result"
    },
    {
     "data": {
      "image/png": "[encoded data removed]",
      "text/plain": [
       "<Figure size 432x288 with 1 Axes>"
      ]
     },
     "metadata": {
      "needs_background": "light"
     },
     "output_type": "display_data"
    }
   ],
   "source": [
    "num_px = train_set_x_orig.shape[1]\n",
    "plt.imshow(test_set_x[:,1].reshape((num_px, num_px, 3)))\n",
    "predicted_value = Y_prediction_test[0][1]\n",
    "print(\"Predicted as:\",classes[int(predicted_value)].decode('utf-8'))\n",
    "predicted_value"
   ]
  },
  {
   "cell_type": "code",
   "execution_count": 53,
   "metadata": {},
   "outputs": [
    {
     "name": "stdout",
     "output_type": "stream",
     "text": [
      "Predicted as: cat\n"
     ]
    },
    {
     "data": {
      "text/plain": [
       "1.0"
      ]
     },
     "execution_count": 53,
     "metadata": {},
     "output_type": "execute_result"
    },
    {
     "data": {
      "image/png": "[encoded data removed]",
      "text/plain": [
       "<Figure size 432x288 with 1 Axes>"
      ]
     },
     "metadata": {
      "needs_background": "light"
     },
     "output_type": "display_data"
    }
   ],
   "source": [
    "num_px = train_set_x_orig.shape[1]\n",
    "plt.imshow(test_set_x[:,2].reshape((num_px, num_px, 3)))\n",
    "predicted_value = Y_prediction_test[0][2]\n",
    "print(\"Predicted as:\",classes[int(predicted_value)].decode('utf-8'))\n",
    "predicted_value"
   ]
  },
  {
   "cell_type": "code",
   "execution_count": 59,
   "metadata": {},
   "outputs": [],
   "source": [
    "def classify(test_set_id):\n",
    "    num_px = train_set_x_orig.shape[1]\n",
    "    print(\"\\nTest data:\", classes[test_set_y[test_set_id]].decode('utf-8'), \"(id:\", test_set_y[test_set_id],\")\")\n",
    "    plt.imshow(test_set_x[:,test_set_id].reshape((num_px, num_px, 3)))\n",
    "    predicted_value = Y_prediction_test[0][test_set_id]\n",
    "    print(\"Predicted as:\",classes[int(predicted_value)].decode('utf-8'))\n",
    "    predicted_value"
   ]
  },
  {
   "cell_type": "code",
   "execution_count": 62,
   "metadata": {},
   "outputs": [
    {
     "name": "stdout",
     "output_type": "stream",
     "text": [
      "\n",
      "Test data: cat (id: 1 )\n",
      "Predicted as: cat\n"
     ]
    },
    {
     "data": {
      "image/png": "[encoded data removed]",
      "text/plain": [
       "<Figure size 432x288 with 1 Axes>"
      ]
     },
     "metadata": {
      "needs_background": "light"
     },
     "output_type": "display_data"
    }
   ],
   "source": [
    "classify(3)"
   ]
  },
  {
   "cell_type": "raw",
   "metadata": {},
   "source": [
    "Displaying all the images wrongly identified"
   ]
  },
  {
   "cell_type": "code",
   "execution_count": 81,
   "metadata": {},
   "outputs": [],
   "source": [
    "def classify_1():\n",
    "    count = 0\n",
    "    for id in range(test_set_x.shape[1]):\n",
    "        if test_set_y[id] != Y_prediction_test[0][id]:\n",
    "            print('Id : ',id )\n",
    "            print('test_set_y[id] :' , test_set_y[id])\n",
    "            print('predicted : ',Y_prediction_test[0][id])\n",
    "            plt.figure(count)  # Create a new figure\n",
    "            plt.imshow(test_set_x[:,id].reshape((num_px, num_px, 3)))\n",
    "            plt.show()\n",
    "            count += 1"
   ]
  },
  {
   "cell_type": "code",
   "execution_count": 82,
   "metadata": {},
   "outputs": [
    {
     "name": "stdout",
     "output_type": "stream",
     "text": [
      "Id :  5\n",
      "test_set_y[id] : 0\n",
      "predicted :  1.0\n"
     ]
    },
    {
     "data": {
      "image/png": "[encoded data removed]",
      "text/plain": [
       "<Figure size 432x288 with 1 Axes>"
      ]
     },
     "metadata": {
      "needs_background": "light"
     },
     "output_type": "display_data"
    },
    {
     "name": "stdout",
     "output_type": "stream",
     "text": [
      "Id :  6\n",
      "test_set_y[id] : 1\n",
      "predicted :  0.0\n"
     ]
    },
    {
     "data": {
      "image/png": "[encoded data removed]",
      "text/plain": [
       "<Figure size 432x288 with 1 Axes>"
      ]
     },
     "metadata": {
      "needs_background": "light"
     },
     "output_type": "display_data"
    },
    {
     "name": "stdout",
     "output_type": "stream",
     "text": [
      "Id :  13\n",
      "test_set_y[id] : 0\n",
      "predicted :  1.0\n"
     ]
    },
    {
     "data": {
      "image/png": "[encoded data removed]",
      "text/plain": [
       "<Figure size 432x288 with 1 Axes>"
      ]
     },
     "metadata": {
      "needs_background": "light"
     },
     "output_type": "display_data"
    },
    {
     "name": "stdout",
     "output_type": "stream",
     "text": [
      "Id :  19\n",
      "test_set_y[id] : 1\n",
      "predicted :  0.0\n"
     ]
    },
    {
     "data": {
      "image/png": "[encoded data removed]",
      "text/plain": [
       "<Figure size 432x288 with 1 Axes>"
      ]
     },
     "metadata": {
      "needs_background": "light"
     },
     "output_type": "display_data"
    }
   ],
   "source": [
    "classify_1()"
   ]
  },
  {
   "cell_type": "code",
   "execution_count": null,
   "metadata": {},
   "outputs": [],
   "source": []
  }
 ],
 "metadata": {
  "kernelspec": {
   "display_name": "tensorflow2",
   "language": "python",
   "name": "tensorflow2"
  },
  "language_info": {
   "codemirror_mode": {
    "name": "ipython",
    "version": 3
   },
   "file_extension": ".py",
   "mimetype": "text/x-python",
   "name": "python",
   "nbconvert_exporter": "python",
   "pygments_lexer": "ipython3",
   "version": "3.6.8"
  },
  "toc": {
   "base_numbering": 1,
   "nav_menu": {},
   "number_sections": true,
   "sideBar": true,
   "skip_h1_title": false,
   "title_cell": "Table of Contents",
   "title_sidebar": "Contents",
   "toc_cell": false,
   "toc_position": {},
   "toc_section_display": true,
   "toc_window_display": false
  }
 },
 "nbformat": 4,
 "nbformat_minor": 2
}
